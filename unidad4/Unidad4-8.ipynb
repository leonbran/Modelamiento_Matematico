{
 "cells": [
  {
   "cell_type": "markdown",
   "metadata": {},
   "source": [
    "# Calcula población de codornices"
   ]
  },
  {
   "cell_type": "code",
   "execution_count": 1,
   "metadata": {},
   "outputs": [
    {
     "name": "stdout",
     "output_type": "stream",
     "text": [
      "t (día)      Pt (Población en el día t)\n",
      "\n",
      "0                    20\n",
      "1                    24\n",
      "2                    29\n",
      "3                    35\n",
      "4                    41\n",
      "5                    50\n",
      "6                    60\n",
      "7                    72\n",
      "8                    86\n",
      "9                    103\n",
      "10                   124\n"
     ]
    }
   ],
   "source": [
    "import numpy as np\n",
    "\n",
    "y = np.zeros(12)  # Vector para guardar la poblacion de codornices\n",
    "y[0] = 20.0 # Valor inicial de la sucesion\n",
    "\n",
    "print(\"t (día)\",\"    \",\"Pt (Población en el día t)\")\n",
    "print(\"\")\n",
    "\n",
    "for n in range(10):\n",
    "\n",
    "  y[n+1] = 1.2*y[n]\n",
    "  print(n,\"                  \",round(y[n]) )   # Imprime los valores de la sucesion hasta el día 9\n",
    "\n",
    "print(10,\"                 \",round(y[n+1]) )   # Imprime el valor en 10 días"
   ]
  },
  {
   "cell_type": "code",
   "execution_count": null,
   "metadata": {},
   "outputs": [],
   "source": []
  }
 ],
 "metadata": {
  "kernelspec": {
   "display_name": "Python 3",
   "language": "python",
   "name": "python3"
  },
  "language_info": {
   "codemirror_mode": {
    "name": "ipython",
    "version": 3
   },
   "file_extension": ".py",
   "mimetype": "text/x-python",
   "name": "python",
   "nbconvert_exporter": "python",
   "pygments_lexer": "ipython3",
   "version": "3.8.5"
  }
 },
 "nbformat": 4,
 "nbformat_minor": 4
}
