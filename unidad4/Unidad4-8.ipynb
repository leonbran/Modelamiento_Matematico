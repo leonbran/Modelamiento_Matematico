{
 "cells": [
  {
   "cell_type": "markdown",
   "metadata": {},
   "source": [
    "# Calcula población de codornices"
   ]
  },
  {
   "cell_type": "code",
   "execution_count": null,
   "metadata": {},
   "outputs": [],
   "source": [
    "# Calcula la poblacion de codornices\n",
    "\n",
    "y = np.zeros(12)  # Vector para guardar la poblacion de codornices\n",
    "y[0] = 20.0 # Valor inicial de la sucesion\n",
    "\n",
    "print(\"t (día)\",\"    \",\"Pt (Población en el día t)\")\n",
    "print(\"\")\n",
    "\n",
    "for n in range(10):\n",
    "\n",
    "  y[n+1] = 1.2*y[n]\n",
    "  print(n,\"                  \",round(y[n]) )   # Imprime los valores de la sucesion hasta el día 9\n",
    "\n",
    "print(10,\"                 \",round(y[n+1]) )   # Imprime el valor en 10 días"
   ]
  }
 ],
 "metadata": {
  "kernelspec": {
   "display_name": "Python 3",
   "language": "python",
   "name": "python3"
  },
  "language_info": {
   "codemirror_mode": {
    "name": "ipython",
    "version": 3
   },
   "file_extension": ".py",
   "mimetype": "text/x-python",
   "name": "python",
   "nbconvert_exporter": "python",
   "pygments_lexer": "ipython3",
   "version": "3.8.5"
  }
 },
 "nbformat": 4,
 "nbformat_minor": 4
}
