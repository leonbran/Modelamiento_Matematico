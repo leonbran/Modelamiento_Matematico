{
 "cells": [
  {
   "cell_type": "markdown",
   "id": "12a7d404",
   "metadata": {},
   "source": [
    "# Calcula y gráfica la sucesión de Fibonacci"
   ]
  },
  {
   "cell_type": "code",
   "execution_count": 1,
   "id": "90da3ec7",
   "metadata": {},
   "outputs": [
    {
     "name": "stdout",
     "output_type": "stream",
     "text": [
      "1.0\n",
      "2.0\n",
      "3.0\n",
      "5.0\n",
      "8.0\n",
      "13.0\n",
      "21.0\n",
      "34.0\n",
      "55.0\n",
      "89.0\n",
      "144.0\n",
      "233.0\n",
      "377.0\n",
      "610.0\n",
      "987.0\n",
      "1597.0\n",
      "2584.0\n",
      "4181.0\n",
      "6765.0\n"
     ]
    },
    {
     "data": {
      "image/png": "[encoded data removed]",
      "text/plain": [
       "<Figure size 432x288 with 1 Axes>"
      ]
     },
     "metadata": {
      "needs_background": "light"
     },
     "output_type": "display_data"
    },
    {
     "data": {
      "image/png": "[encoded data removed]",
      "text/plain": [
       "<Figure size 432x288 with 1 Axes>"
      ]
     },
     "metadata": {
      "needs_background": "light"
     },
     "output_type": "display_data"
    }
   ],
   "source": [
    "import matplotlib.pyplot as plt\n",
    "import numpy as np\n",
    "\n",
    "y = np.zeros(20)\n",
    "y[0]=1\n",
    "y[1]=1\n",
    "\n",
    "for n in range(19):\n",
    "  y[n+1] = y[n] + y[n -1]\n",
    "  print (y[n+1])\n",
    "\n",
    "# Grafica la sucesion\n",
    "plt.plot(y, '.b')\n",
    "plt.xlabel('n')\n",
    "plt.ylabel('yn ')\n",
    "plt.show()\n",
    "\n",
    "\n",
    "#Estudio de los cocientes consecutivos de la sucesion de Fibonacci\n",
    "\n",
    "#Calcula los cocientes en la suc. de Fibonacci\n",
    "\n",
    "for n in range (19):\n",
    "  plt.plot(n, y[n+1]/ y[n], '.b' )\n",
    "\n",
    "\n",
    "# Grafica la sucesion de cocientes\n",
    "plt.xlabel('n')\n",
    "plt.ylabel('yn+1 / yn')\n",
    "plt.show()"
   ]
  }
 ],
 "metadata": {
  "kernelspec": {
   "display_name": "Python 3",
   "language": "python",
   "name": "python3"
  },
  "language_info": {
   "codemirror_mode": {
    "name": "ipython",
    "version": 3
   },
   "file_extension": ".py",
   "mimetype": "text/x-python",
   "name": "python",
   "nbconvert_exporter": "python",
   "pygments_lexer": "ipython3",
   "version": "3.8.8"
  }
 },
 "nbformat": 4,
 "nbformat_minor": 5
}
