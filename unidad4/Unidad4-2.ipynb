{
 "cells": [
  {
   "cell_type": "markdown",
   "metadata": {},
   "source": [
    "# Calcula y gráfica la sucesión de Fibonacci"
   ]
  },
  {
   "cell_type": "code",
   "execution_count": 1,
   "metadata": {},
   "outputs": [
    {
     "name": "stdout",
     "output_type": "stream",
     "text": [
      "1.0\n",
      "2.0\n",
      "3.0\n",
      "5.0\n",
      "8.0\n",
      "13.0\n",
      "21.0\n",
      "34.0\n",
      "55.0\n",
      "89.0\n",
      "144.0\n",
      "233.0\n",
      "377.0\n",
      "610.0\n",
      "987.0\n",
      "1597.0\n",
      "2584.0\n",
      "4181.0\n",
      "6765.0\n"
     ]
    },
    {
     "data": {
      "image/png": "[encoded data removed]",
      "text/plain": [
       "<Figure size 432x288 with 1 Axes>"
      ]
     },
     "metadata": {
      "needs_background": "light"
     },
     "output_type": "display_data"
    },
    {
     "data": {
      "image/png": "[encoded data removed]",
      "text/plain": [
       "<Figure size 432x288 with 1 Axes>"
      ]
     },
     "metadata": {
      "needs_background": "light"
     },
     "output_type": "display_data"
    }
   ],
   "source": [
    "import matplotlib.pyplot as plt\n",
    "import numpy as np\n",
    "\n",
    "y = np.zeros(20)\n",
    "y[0]=1\n",
    "y[1]=1\n",
    "\n",
    "for n in range(19):\n",
    "  y[n+1] = y[n] + y[n -1]\n",
    "  print (y[n+1]) # Imprime los valores de la poblacion de conejos\n",
    "\n",
    "# Grafica la sucesion\n",
    "plt.plot(y, '.k')\n",
    "plt.xlabel('n', size = 14)\n",
    "plt.text(0, 6800, r'$y_n$', size = 14)\n",
    "plt.show()\n",
    "\n",
    "\n",
    "#Estudio de los cocientes consecutivos de la sucesion de Fibonacci\n",
    "\n",
    "#Calcula los cocientes en la suc. de Fibonacci\n",
    "\n",
    "for n in range (19):\n",
    "  plt.plot(n, y[n+1]/ y[n], '.k' )\n",
    "\n",
    "\n",
    "# Grafica la sucesion de cocientes\n",
    "plt.xlabel('n', size = 14)\n",
    "plt.text(-2, 2.1, r'$\\frac{y_{n+1}}{y_n}$', size = 14)\n",
    "plt.plot( (0, 20 ), ((1+5**0.5)/2., (1+5**0.5)/2. ), 'k' )\n",
    "plt.show()\n",
    "\n"
   ]
  },
  {
   "cell_type": "code",
   "execution_count": null,
   "metadata": {},
   "outputs": [],
   "source": []
  }
 ],
 "metadata": {
  "kernelspec": {
   "display_name": "Python 3",
   "language": "python",
   "name": "python3"
  },
  "language_info": {
   "codemirror_mode": {
    "name": "ipython",
    "version": 3
   },
   "file_extension": ".py",
   "mimetype": "text/x-python",
   "name": "python",
   "nbconvert_exporter": "python",
   "pygments_lexer": "ipython3",
   "version": "3.8.5"
  }
 },
 "nbformat": 4,
 "nbformat_minor": 5
}
