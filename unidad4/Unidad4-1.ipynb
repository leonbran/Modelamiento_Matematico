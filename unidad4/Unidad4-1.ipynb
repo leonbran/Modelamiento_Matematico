{
 "cells": [
  {
   "cell_type": "markdown",
   "metadata": {},
   "source": [
    "# Evalúa una sucesión y hace su gráfica"
   ]
  },
  {
   "cell_type": "code",
   "execution_count": 2,
   "metadata": {},
   "outputs": [
    {
     "name": "stdout",
     "output_type": "stream",
     "text": [
      "3.0\n",
      "9.0\n",
      "27.0\n",
      "81.0\n",
      "243.0\n"
     ]
    },
    {
     "data": {
      "image/png": "[encoded data removed]",
      "text/plain": [
       "<Figure size 432x288 with 1 Axes>"
      ]
     },
     "metadata": {
      "needs_background": "light"
     },
     "output_type": "display_data"
    }
   ],
   "source": [
    "# Evalua una sucesion y hace su grafica\n",
    "\n",
    "import matplotlib.pyplot as plt\n",
    "import numpy as np\n",
    "\n",
    "\n",
    "y = np.zeros(6)\n",
    "y[0] = 1.0 # Valor inicial de la sucesion\n",
    "\n",
    "\n",
    "for n in range(5):\n",
    "\n",
    "# En esta linea se calcula el termino n+1 conociendo el termino n\n",
    "  y[n+1] = 3*y[n] \n",
    "  print(y[n+1])  # Esta linea imprime los valores de la sucesion \n",
    "\n",
    "\n",
    "# Las siguientes lineas grafican la sucesion\n",
    "plt.plot(y,'.k')\n",
    "plt.xlabel('n', size = 16)\n",
    "plt.text(-0.1,220,r'$y_n$', size = 16 )\n",
    "plt.show()\n",
    "\n"
   ]
  },
  {
   "cell_type": "code",
   "execution_count": null,
   "metadata": {},
   "outputs": [],
   "source": []
  }
 ],
 "metadata": {
  "kernelspec": {
   "display_name": "Python 3",
   "language": "python",
   "name": "python3"
  },
  "language_info": {
   "codemirror_mode": {
    "name": "ipython",
    "version": 3
   },
   "file_extension": ".py",
   "mimetype": "text/x-python",
   "name": "python",
   "nbconvert_exporter": "python",
   "pygments_lexer": "ipython3",
   "version": "3.8.5"
  }
 },
 "nbformat": 4,
 "nbformat_minor": 5
}
