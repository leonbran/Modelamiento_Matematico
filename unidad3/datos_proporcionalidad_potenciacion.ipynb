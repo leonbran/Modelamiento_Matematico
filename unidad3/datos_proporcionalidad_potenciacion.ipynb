{
 "cells": [
  {
   "cell_type": "markdown",
   "id": "af1161a7",
   "metadata": {},
   "source": [
    "# Proporcionalidad potenciación"
   ]
  },
  {
   "cell_type": "markdown",
   "id": "186781d3",
   "metadata": {},
   "source": [
    "#---------------------------------------#\n",
    "Introducción al Modelamiento Matemático\n",
    "Facultad de Ciencias Naturales y Exactas\n",
    "Universidad del Valle\n",
    "2021\n",
    "#---------------------------------------#"
   ]
  },
  {
   "cell_type": "markdown",
   "id": "9d022dc9",
   "metadata": {},
   "source": [
    "##### Graficando datos"
   ]
  },
  {
   "cell_type": "code",
   "execution_count": 7,
   "id": "d2e0214d",
   "metadata": {},
   "outputs": [
    {
     "name": "stdout",
     "output_type": "stream",
     "text": [
      "datos x=  [ 2.  4.  6.  8. 10. 12. 14. 16. 18. 20.]\n",
      "\n",
      "\n",
      "datos y=  [0.025      0.00625    0.00277778 0.0015625  0.001      0.00069444\n",
      " 0.0005102  0.00039063 0.00030864 0.00025   ]\n"
     ]
    },
    {
     "data": {
      "image/png": "[encoded data removed]",
      "text/plain": [
       "<Figure size 432x288 with 1 Axes>"
      ]
     },
     "metadata": {
      "needs_background": "light"
     },
     "output_type": "display_data"
    }
   ],
   "source": [
    "#importamos el modulos de numpy (numeric python)\n",
    "import numpy as np\n",
    "\n",
    "\n",
    "#importamos del módulo matplotlib la libreria pyplot con el alias de plt \n",
    "#(esto no permitira graficar las funciones).\n",
    "import matplotlib.pyplot as plt\n",
    "\n",
    "\n",
    "#numero de divisiones del intervalo\n",
    "n = 10\n",
    "\n",
    "#--------------------------------------------\n",
    "#DATOS\n",
    "#--------------------------------------------\n",
    "x = np.linspace(2, 20    , n)\n",
    "y = 0.1* x**(-2) \n",
    " \n",
    "    \n",
    "    \n",
    "#mostrando los datos\n",
    "print(\"datos x= \",x)\n",
    "print(\"\\n\")\n",
    "print(\"datos y= \",y)    \n",
    "\n",
    "\n",
    "    \n",
    "#Graficando las dos listas de valores\n",
    "plt.plot(x,y)\n",
    "\n",
    "#poniendo nombres a de los ejes\n",
    "plt.xlabel('x')\n",
    "plt.ylabel('y')\n",
    "#nombre del gráfico\n",
    "plt.title('Y contra X')\n",
    " \n",
    "#Mostrando el gráfico\n",
    "plt.show()"
   ]
  },
  {
   "cell_type": "markdown",
   "id": "96df4d64",
   "metadata": {},
   "source": [
    "### Encontrando la constante"
   ]
  },
  {
   "cell_type": "code",
   "execution_count": 8,
   "id": "ff3b2f6a",
   "metadata": {},
   "outputs": [
    {
     "data": {
      "image/png": "[encoded data removed]",
      "text/plain": [
       "<Figure size 432x288 with 1 Axes>"
      ]
     },
     "metadata": {
      "needs_background": "light"
     },
     "output_type": "display_data"
    },
    {
     "name": "stdout",
     "output_type": "stream",
     "text": [
      "\n",
      "\n",
      "[-5.32192809 -3.66096405 -3.28509721 -3.10730936 -3.         -2.92662841\n",
      " -2.87250287 -2.83048202 -2.79663977 -2.76862179]\n",
      "\n",
      "\n",
      "Valor aproximado de la constante =  -3.2570173574569248\n"
     ]
    }
   ],
   "source": [
    "#Cambio de variable\n",
    "\n",
    "z = np.log(x)\n",
    "w = np.log(y)\n",
    "\n",
    "#Graficando las dos listas de valores\n",
    "plt.plot(z,w)\n",
    "\n",
    "#poniendo nombres a de los ejes\n",
    "plt.xlabel('log(x)')\n",
    "plt.ylabel('log(y)')\n",
    "#nombre del gráfico\n",
    "plt.title('log(x) contra log(y)')\n",
    " \n",
    "#Mostrando el gráfico\n",
    "plt.show()\n",
    "\n",
    "\n",
    "\n",
    "#encontrando la constante de proporcionalidad\n",
    "C = w/z\n",
    "\n",
    "\n",
    "print(\"\\n\")\n",
    "print(C)\n",
    "\n",
    "#tomando el promedio\n",
    "\n",
    "Constante = np.mean(C)\n",
    "\n",
    "\n",
    "print(\"\\n\")\n",
    "print(\"Valor aproximado de la constante = \", Constante)\n"
   ]
  },
  {
   "cell_type": "code",
   "execution_count": null,
   "id": "9fe5d307",
   "metadata": {},
   "outputs": [],
   "source": []
  }
 ],
 "metadata": {
  "kernelspec": {
   "display_name": "Python 3",
   "language": "python",
   "name": "python3"
  },
  "language_info": {
   "codemirror_mode": {
    "name": "ipython",
    "version": 3
   },
   "file_extension": ".py",
   "mimetype": "text/x-python",
   "name": "python",
   "nbconvert_exporter": "python",
   "pygments_lexer": "ipython3",
   "version": "3.8.8"
  }
 },
 "nbformat": 4,
 "nbformat_minor": 5
}
