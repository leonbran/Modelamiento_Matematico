{
 "cells": [
  {
   "cell_type": "markdown",
   "id": "08f98c23",
   "metadata": {},
   "source": [
    "# Proporcionalidad directa"
   ]
  },
  {
   "cell_type": "raw",
   "id": "67bb8f72",
   "metadata": {},
   "source": [
    "#---------------------------------------#\n",
    "Introducción al Modelamiento Matemático\n",
    "Facultad de Ciencias Naturales y Exactas\n",
    "Universidad del Valle\n",
    "2021\n",
    "#---------------------------------------#"
   ]
  },
  {
   "cell_type": "markdown",
   "id": "9d022dc9",
   "metadata": {},
   "source": [
    "##### Graficando datos"
   ]
  },
  {
   "cell_type": "code",
   "execution_count": 1,
   "id": "d2e0214d",
   "metadata": {},
   "outputs": [
    {
     "name": "stdout",
     "output_type": "stream",
     "text": [
      "datos x=  [ 1.  2.  3.  4.  5.  6.  7.  8.  9. 10.]\n",
      "\n",
      "\n",
      "datos y=  [ 2.  4.  6.  8. 10. 12. 14. 16. 18. 20.]\n"
     ]
    },
    {
     "data": {
      "image/png": "[encoded data removed]",
      "text/plain": [
       "<Figure size 432x288 with 1 Axes>"
      ]
     },
     "metadata": {
      "needs_background": "light"
     },
     "output_type": "display_data"
    }
   ],
   "source": [
    "#importamos el modulos de numpy (numeric python)\n",
    "import numpy as np\n",
    "\n",
    "\n",
    "#importamos del módulo matplotlib la libreria pyplot con el alias de plt \n",
    "#(esto no permitira graficar las funciones).\n",
    "import matplotlib.pyplot as plt\n",
    "\n",
    "\n",
    "#numero de divisiones del intervalo\n",
    "n = 10\n",
    "\n",
    "#--------------------------------------------\n",
    "#DATOS\n",
    "#--------------------------------------------\n",
    "x = np.linspace(1, 10 , n)\n",
    "y = np.linspace(2, 20 , n)\n",
    " \n",
    "#mostrando los datos\n",
    "print(\"datos x= \",x)\n",
    "print(\"\\n\")\n",
    "print(\"datos y= \",y)    \n",
    "\n",
    "\n",
    "    \n",
    "#Graficando las dos listas de valores\n",
    "plt.plot(x,y)\n",
    "\n",
    "#poniendo nombres a de los ejes\n",
    "plt.xlabel('x')\n",
    "plt.ylabel('y')\n",
    "#nombre del gráfico\n",
    "plt.title('Y contra X')\n",
    " \n",
    "#Mostrando el gráfico\n",
    "plt.show()"
   ]
  },
  {
   "cell_type": "markdown",
   "id": "09fbbc3e",
   "metadata": {},
   "source": [
    "### encontrando la constante de proporcionalidad"
   ]
  },
  {
   "cell_type": "code",
   "execution_count": 3,
   "id": "89cd9bd3",
   "metadata": {},
   "outputs": [
    {
     "name": "stdout",
     "output_type": "stream",
     "text": [
      "\n",
      "\n",
      "[2. 2. 2. 2. 2. 2. 2. 2. 2. 2.]\n",
      "\n",
      "\n",
      "Valor aproximado de la constante =  2.0\n"
     ]
    }
   ],
   "source": [
    "#como son numoy arrays podemos escribir \n",
    "\n",
    "C = y/x\n",
    "\n",
    "print(\"\\n\")\n",
    "print(C)\n",
    "\n",
    "#tomando el promedio\n",
    "\n",
    "Constante = np.mean(C)\n",
    "\n",
    "\n",
    "print(\"\\n\")\n",
    "print(\"Valor aproximado de la constante = \", Constante)\n"
   ]
  },
  {
   "cell_type": "code",
   "execution_count": null,
   "id": "6382aca8",
   "metadata": {},
   "outputs": [],
   "source": []
  }
 ],
 "metadata": {
  "kernelspec": {
   "display_name": "Python 3",
   "language": "python",
   "name": "python3"
  },
  "language_info": {
   "codemirror_mode": {
    "name": "ipython",
    "version": 3
   },
   "file_extension": ".py",
   "mimetype": "text/x-python",
   "name": "python",
   "nbconvert_exporter": "python",
   "pygments_lexer": "ipython3",
   "version": "3.8.8"
  }
 },
 "nbformat": 4,
 "nbformat_minor": 5
}
