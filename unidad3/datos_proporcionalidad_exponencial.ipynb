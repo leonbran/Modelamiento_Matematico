{
 "cells": [
  {
   "cell_type": "markdown",
   "id": "c53d7e54",
   "metadata": {},
   "source": [
    "# Proporcionalidad exponencial"
   ]
  },
  {
   "cell_type": "markdown",
   "id": "6090a2d4",
   "metadata": {},
   "source": [
    "#---------------------------------------#\n",
    "Introducción al Modelamiento Matemático\n",
    "Facultad de Ciencias Naturales y Exactas\n",
    "Universidad del Valle\n",
    "2021\n",
    "#---------------------------------------#"
   ]
  },
  {
   "cell_type": "markdown",
   "id": "9d022dc9",
   "metadata": {},
   "source": [
    "##### Graficando datos"
   ]
  },
  {
   "cell_type": "code",
   "execution_count": 1,
   "id": "d2e0214d",
   "metadata": {},
   "outputs": [
    {
     "name": "stdout",
     "output_type": "stream",
     "text": [
      "datos x=  [ 1.  2.  3.  4.  5.  6.  7.  8.  9. 10.]\n",
      "\n",
      "\n",
      "datos y=  [  1.64872127   2.71828183   4.48168907   7.3890561   12.18249396\n",
      "  20.08553692  33.11545196  54.59815003  90.0171313  148.4131591 ]\n"
     ]
    },
    {
     "data": {
      "image/png": "[encoded data removed]",
      "text/plain": [
       "<Figure size 432x288 with 1 Axes>"
      ]
     },
     "metadata": {
      "needs_background": "light"
     },
     "output_type": "display_data"
    }
   ],
   "source": [
    "#importamos el modulos de numpy (numeric python)\n",
    "import numpy as np\n",
    "\n",
    "\n",
    "#importamos del módulo matplotlib la libreria pyplot con el alias de plt \n",
    "#(esto no permitira graficar las funciones).\n",
    "import matplotlib.pyplot as plt\n",
    "\n",
    "\n",
    "#numero de divisiones del intervalo\n",
    "n = 10\n",
    "\n",
    "#--------------------------------------------\n",
    "#DATOS\n",
    "#--------------------------------------------\n",
    "x = np.linspace(1, 10    , n)\n",
    "y = np.exp( 0.5 * x)\n",
    " \n",
    "    \n",
    "    \n",
    "#mostrando los datos\n",
    "print(\"datos x= \",x)\n",
    "print(\"\\n\")\n",
    "print(\"datos y= \",y)    \n",
    "\n",
    "\n",
    "    \n",
    "#Graficando las dos listas de valores\n",
    "plt.plot(x,y)\n",
    "\n",
    "#poniendo nombres a de los ejes\n",
    "plt.xlabel('x')\n",
    "plt.ylabel('y')\n",
    "#nombre del gráfico\n",
    "plt.title('Y contra X')\n",
    " \n",
    "#Mostrando el gráfico\n",
    "plt.show()"
   ]
  },
  {
   "cell_type": "markdown",
   "id": "1429d554",
   "metadata": {},
   "source": [
    "### Encontrando la constante de crecimiento"
   ]
  },
  {
   "cell_type": "code",
   "execution_count": 2,
   "id": "ff3b2f6a",
   "metadata": {},
   "outputs": [
    {
     "data": {
      "image/png": "[encoded data removed]",
      "text/plain": [
       "<Figure size 432x288 with 1 Axes>"
      ]
     },
     "metadata": {
      "needs_background": "light"
     },
     "output_type": "display_data"
    },
    {
     "name": "stdout",
     "output_type": "stream",
     "text": [
      "\n",
      "\n",
      "[0.5 0.5 0.5 0.5 0.5 0.5 0.5 0.5 0.5 0.5]\n",
      "\n",
      "\n",
      "Valor aproximado de la constante =  0.5\n"
     ]
    }
   ],
   "source": [
    "#Cambio de variable\n",
    "\n",
    "z = np.log(y)\n",
    "\n",
    "\n",
    "\n",
    "#Graficando las dos listas de valores\n",
    "plt.plot(x,z)\n",
    "\n",
    "#poniendo nombres a de los ejes\n",
    "plt.xlabel('x')\n",
    "plt.ylabel('log(y)')\n",
    "#nombre del gráfico\n",
    "plt.title('log(y) contra x')\n",
    " \n",
    "#Mostrando el gráfico\n",
    "plt.show()\n",
    "\n",
    "\n",
    "#encontrando la constante de proporcionalidad\n",
    "C = z/x\n",
    "\n",
    "\n",
    "print(\"\\n\")\n",
    "print(C)\n",
    "\n",
    "#tomando el promedio\n",
    "\n",
    "Constante = np.mean(C)\n",
    "\n",
    "\n",
    "print(\"\\n\")\n",
    "print(\"Valor aproximado de la constante = \", Constante)\n"
   ]
  },
  {
   "cell_type": "code",
   "execution_count": null,
   "id": "9fe5d307",
   "metadata": {},
   "outputs": [],
   "source": []
  }
 ],
 "metadata": {
  "kernelspec": {
   "display_name": "Python 3",
   "language": "python",
   "name": "python3"
  },
  "language_info": {
   "codemirror_mode": {
    "name": "ipython",
    "version": 3
   },
   "file_extension": ".py",
   "mimetype": "text/x-python",
   "name": "python",
   "nbconvert_exporter": "python",
   "pygments_lexer": "ipython3",
   "version": "3.8.8"
  }
 },
 "nbformat": 4,
 "nbformat_minor": 5
}
