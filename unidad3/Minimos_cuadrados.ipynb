{
 "cells": [
  {
   "cell_type": "markdown",
   "id": "af1161a7",
   "metadata": {},
   "source": [
    "# Regresión lineal por mínimos cuadrados"
   ]
  },
  {
   "cell_type": "raw",
   "id": "4f55456d",
   "metadata": {},
   "source": [
    "#---------------------------------------#\n",
    "Introducción al Modelamiento Matemático\n",
    "Facultad de Ciencias Naturales y Exactas\n",
    "Universidad del Valle\n",
    "2022\n",
    "#---------------------------------------#"
   ]
  },
  {
   "cell_type": "code",
   "execution_count": 3,
   "id": "9fe5d307",
   "metadata": {},
   "outputs": [
    {
     "data": {
      "image/png": "[encoded data removed]",
      "text/plain": [
       "<Figure size 432x288 with 1 Axes>"
      ]
     },
     "metadata": {
      "needs_background": "light"
     },
     "output_type": "display_data"
    }
   ],
   "source": [
    "#importamos el modulos de numpy (numeric python)\n",
    "import numpy as np\n",
    "\n",
    "#importamos del módulo matplotlib la libreria pyplot con el alias de plt \n",
    "import matplotlib.pyplot as plt\n",
    "\n",
    "\n",
    "#datos que queremos ajustar\n",
    "x = [1  ,2  ,3 ,4 ,5  ,6,6.6]\n",
    "y = [0.5,2.5,2 ,4 ,3.5,6,5.5]\n",
    "\n",
    "\n",
    "#---------------------------------------------------------\n",
    "#Calculo de la pendiente (m) y el intercepto (b) de la linealizacion\n",
    "n = len(x)\n",
    "\n",
    "#donde almacenaremos los valores de las sumas\n",
    "suma_xi  = 0\n",
    "suma_yi  = 0\n",
    "suma_xixi= 0\n",
    "suma_xiyi= 0\n",
    "\n",
    "for i in range( n ):        \n",
    "    suma_xi   += x[i]\n",
    "    suma_yi   += y[i]\n",
    "    suma_xixi += x[i]**2\n",
    "    suma_xiyi += x[i]*y[i]\n",
    "\n",
    "#aplicado las formulas\n",
    "\n",
    "m = (n  * suma_xiyi      - suma_xi   * suma_yi) / (n * suma_xixi - suma_xi**2)\n",
    "\n",
    "b = (suma_xixi * suma_yi - suma_xiyi * suma_xi) / (n * suma_xixi - suma_xi**2)\n",
    "\n",
    "\n",
    "#Linea recta aproximada\n",
    "L = m * np.array(x) + b  #note que aqui toca transformar la lista de x a un arreglo!\n",
    "\n",
    "#---------------------------------------------------------\n",
    " \n",
    "\n",
    "\n",
    "\n",
    "#--------------graficando---------------------------\n",
    "#Graficando las parejas de datos\n",
    "plt.plot(  x  , y , \"or\" , label=\"datos\" )\n",
    "\n",
    "\n",
    "#Graficando la recta segun m y b \n",
    "plt.plot(  x , L , label=\"recta aproximada\"  )\n",
    "\n",
    "\n",
    "#mostrando las legendas del grafico\n",
    "plt.grid()       \n",
    "plt.legend()\n",
    "    \n",
    "#Mostrando el gráfico\n",
    "plt.show()    \n",
    "     \n",
    "    "
   ]
  },
  {
   "cell_type": "code",
   "execution_count": null,
   "id": "56e90fec",
   "metadata": {},
   "outputs": [],
   "source": []
  }
 ],
 "metadata": {
  "kernelspec": {
   "display_name": "Python 3",
   "language": "python",
   "name": "python3"
  },
  "language_info": {
   "codemirror_mode": {
    "name": "ipython",
    "version": 3
   },
   "file_extension": ".py",
   "mimetype": "text/x-python",
   "name": "python",
   "nbconvert_exporter": "python",
   "pygments_lexer": "ipython3",
   "version": "3.8.8"
  }
 },
 "nbformat": 4,
 "nbformat_minor": 5
}
