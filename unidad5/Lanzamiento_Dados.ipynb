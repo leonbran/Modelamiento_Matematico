{
 "cells": [
  {
   "cell_type": "markdown",
   "id": "71f309ae",
   "metadata": {},
   "source": [
    "# Distribución de probabilidad uniforme vs no uniforme"
   ]
  },
  {
   "cell_type": "code",
   "execution_count": 2,
   "id": "cef828ce",
   "metadata": {},
   "outputs": [
    {
     "data": {
      "image/png": "[encoded data removed]",
      "text/plain": [
       "<Figure size 432x288 with 2 Axes>"
      ]
     },
     "metadata": {
      "needs_background": "light"
     },
     "output_type": "display_data"
    }
   ],
   "source": [
    "#importar módulo numpy para introducir la función randint la cual\n",
    "#se encuentra dentro de la librería random\n",
    "import numpy as np \n",
    "\n",
    "#lista donde se almacenarán los lanzamientos\n",
    "lista_un_dado = [] #usando un solo dado\n",
    "lista_dos_dados = [] #usando la suma de dos dados\n",
    "\n",
    "#cantidd de lanzamientos\n",
    "N_lanzamientos = 10000\n",
    "\n",
    "#ciclo para generar los lanzamientos\n",
    "for i in range(0, N_lanzamientos):\n",
    "    #generación de dos números aleatorios entre 1 y 6\n",
    "    dado1 = np.random.randint(1,6)    \n",
    "    dado2 = np.random.randint(1,6)\n",
    "\n",
    "    #almacenar la información de un solo dado\n",
    "    #genera una distribución de probabilidad uniforme\n",
    "    lista_un_dado.append(dado1)\n",
    "\n",
    "    #almacenar la información de la suma de los dos dados\n",
    "    #genera una distribución de probabilidad no uniforme\n",
    "    lista_dos_dados.append(dado1+dado2)\n",
    "\n",
    "#importar módulo matplotlib.pyplot para realizar gráficos\n",
    "#se grafican histogramas\n",
    "#y se grafican dos figuras una al lado de la otra: 1 fila con 2 columnas\n",
    "import matplotlib.pyplot as plt\n",
    "\n",
    "#subplot para hacer varias figuras con formanto (filas,columnas,posición)\n",
    "plt.subplot(1,2,1)\n",
    "plt.title('Un solo dado')\n",
    "\n",
    "#hist para hacer histogramas, es importante definir un buen número de bins\n",
    "plt.hist(lista_un_dado, bins=40)\n",
    "plt.subplot(1,2,2)\n",
    "plt.title('Suma de dos dados')\n",
    "plt.hist(lista_dos_dados, bins=40)\n",
    "plt.show()"
   ]
  },
  {
   "cell_type": "code",
   "execution_count": null,
   "id": "82b8a399",
   "metadata": {},
   "outputs": [],
   "source": []
  }
 ],
 "metadata": {
  "kernelspec": {
   "display_name": "Python 3",
   "language": "python",
   "name": "python3"
  },
  "language_info": {
   "codemirror_mode": {
    "name": "ipython",
    "version": 3
   },
   "file_extension": ".py",
   "mimetype": "text/x-python",
   "name": "python",
   "nbconvert_exporter": "python",
   "pygments_lexer": "ipython3",
   "version": "3.8.8"
  }
 },
 "nbformat": 4,
 "nbformat_minor": 5
}
