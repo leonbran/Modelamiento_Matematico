{
 "cells": [
  {
   "cell_type": "markdown",
   "id": "c0abadf6",
   "metadata": {},
   "source": [
    "# Generador de números aleatorios"
   ]
  },
  {
   "cell_type": "markdown",
   "id": "6f6edf09",
   "metadata": {},
   "source": [
    "Basado en la recurrencia $$x_{n+1}=(ax_n+c) \\text{mod } m,$$\n",
    "\n",
    "donde $\\text{mod}$ es la función módulo $x_n$ y $x_{n+1}$ son los números $n$ y $n+1$ de la secuencia."
   ]
  },
  {
   "cell_type": "code",
   "execution_count": 6,
   "id": "2ead7c92",
   "metadata": {},
   "outputs": [
    {
     "name": "stdout",
     "output_type": "stream",
     "text": [
      "[7, 5, 3, 1, 7, 5, 3]\n"
     ]
    }
   ],
   "source": [
    "\n",
    "\n",
    "x0=1 #semilla: número entero inicial\n",
    "\n",
    "#{a,c,m}: parámetros enteros del generador\n",
    "a=5\n",
    "c=2\n",
    "m=8\n",
    "\n",
    "#cantidad de elementos de la secuencia a generar\n",
    "N=7\n",
    "\n",
    "#lista donde se almacena la secuencia\n",
    "lista=[]\n",
    "\n",
    "#ciclo para generar la secuencia\n",
    "for i in range(0, N):\n",
    "    x = (a*x0+c)%m    \n",
    "    lista.append(x)\n",
    "    x0=x\n",
    "\n",
    "#escribir la secuencia generada en pantalla\n",
    "print(lista)"
   ]
  },
  {
   "cell_type": "code",
   "execution_count": null,
   "id": "137906b3",
   "metadata": {},
   "outputs": [],
   "source": []
  }
 ],
 "metadata": {
  "kernelspec": {
   "display_name": "Python 3",
   "language": "python",
   "name": "python3"
  },
  "language_info": {
   "codemirror_mode": {
    "name": "ipython",
    "version": 3
   },
   "file_extension": ".py",
   "mimetype": "text/x-python",
   "name": "python",
   "nbconvert_exporter": "python",
   "pygments_lexer": "ipython3",
   "version": "3.8.8"
  }
 },
 "nbformat": 4,
 "nbformat_minor": 5
}
