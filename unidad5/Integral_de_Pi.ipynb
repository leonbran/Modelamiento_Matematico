{
 "cells": [
  {
   "cell_type": "markdown",
   "id": "bfd173a4",
   "metadata": {},
   "source": [
    "# Cálculo del valor de $\\pi$ mediante una integración Monte Carlo"
   ]
  },
  {
   "cell_type": "code",
   "execution_count": 2,
   "id": "c4938198",
   "metadata": {},
   "outputs": [
    {
     "name": "stdout",
     "output_type": "stream",
     "text": [
      "[100, 1000, 10000, 100000, 1000000]\n"
     ]
    },
    {
     "data": {
      "image/png": "[encoded data removed]",
      "text/plain": [
       "<Figure size 432x288 with 1 Axes>"
      ]
     },
     "metadata": {
      "needs_background": "light"
     },
     "output_type": "display_data"
    }
   ],
   "source": [
    "#Importar módulo numpy para introducir la librería random\n",
    "import numpy as np \n",
    "\n",
    "lista_N = [100,1000,10000,100000,1000000] #de N (números reales no enteros)\n",
    "lista_pi = [] #de pi\n",
    "lista_errores = [] #error porcentual frente al valor 3.1415926535\n",
    "\n",
    "print(lista_N)\n",
    "\n",
    "#ciclo para variar N\n",
    "for N in lista_N:\n",
    "    int_pi=0\n",
    "    #ciclo para realizar la integral para un N fijo\n",
    "    for i in range(0, N):\n",
    "        #genere un número aleatorio entre 0 y 1\n",
    "        x = np.random.rand()    \n",
    "        \n",
    "        #genere cada sumando de la integral\n",
    "        int_pi += 1./(1.+x*x)\n",
    "        \n",
    "    #multiplicar el resultado de la suma por 4/N[k]\n",
    "    lista_pi.append(4*int_pi/N)\n",
    "    lista_errores.append(abs((4*int_pi/N -3.1415926535)/3.1415926535)*100)    \n",
    "\n",
    "#Si desea verificar los valores tanto de pi de los errores descomente las siguientes dos lineas:\n",
    "#print(lista_pi)\n",
    "#print(lista_errores)\n",
    "\n",
    "#importar módulo matplotlib.pyplot para realizar gráficos\n",
    "#se grafican los valores calculados de pi con sus barras de error\n",
    "\n",
    "import matplotlib.pyplot as plt\n",
    "plt.ylim([1., 5.])\n",
    "plt.xlim([90, 1000100])\n",
    "plt.xlabel(\"Pasos Monte Carlo\")\n",
    "plt.ylabel(\"Valor calculado de pi\")\n",
    "plt.xscale(\"log\")\n",
    "plt.errorbar(lista_N, lista_pi, lista_errores ) \n",
    "plt.show()"
   ]
  },
  {
   "cell_type": "code",
   "execution_count": null,
   "id": "42e61e10",
   "metadata": {},
   "outputs": [],
   "source": []
  }
 ],
 "metadata": {
  "kernelspec": {
   "display_name": "Python 3",
   "language": "python",
   "name": "python3"
  },
  "language_info": {
   "codemirror_mode": {
    "name": "ipython",
    "version": 3
   },
   "file_extension": ".py",
   "mimetype": "text/x-python",
   "name": "python",
   "nbconvert_exporter": "python",
   "pygments_lexer": "ipython3",
   "version": "3.8.8"
  }
 },
 "nbformat": 4,
 "nbformat_minor": 5
}
