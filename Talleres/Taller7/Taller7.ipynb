{
 "cells": [
  {
   "cell_type": "markdown",
   "id": "8c44d699",
   "metadata": {},
   "source": [
    "# Taller7 - Aplicacion de Regresión lineal e Interpolación de Lagrange"
   ]
  },
  {
   "cell_type": "markdown",
   "id": "332584fb",
   "metadata": {},
   "source": [
    "### 1. Ejercicio de aplicacíon para entregar!"
   ]
  },
  {
   "cell_type": "markdown",
   "id": "b3938421",
   "metadata": {},
   "source": [
    "####  Midiendo la constante de la aceleración de la gravedad"
   ]
  },
  {
   "cell_type": "markdown",
   "id": "be22dab5",
   "metadata": {},
   "source": [
    "Utilizando las leyes de Newton de la física clásica puede modelarse matemáticamente el movimiento de un péndulo simple. Una de las consecuencias más importantes de este modelo es que su determinado por su longitud mediante la siguiente expresión matemática:\n",
    "\n",
    "$$ T = 2 \\pi \\sqrt{\\dfrac{l}{g}},$$\n",
    "\n",
    "donde $g$ corresponde a la constante de la aceleración de la gravedad. Considerando lo anterior y utilizando\n",
    "el siguiente   conjunto de 11 datos experimentales que se obtienen al medir el periodo (medido en segundos) de un péndulo para diferentes longitudes (medidas en metros) \n",
    "\n",
    " \n",
    "$$\n",
    "\\begin{aligned}\n",
    "& \\text {Datos Experimentales}\\\\\n",
    "&\\begin{array}{|c|c|}\n",
    "\\hline \\hline \\text { Longitud } & \\text { Periodo } \\\\\n",
    "\\hline 0.1 & 0.65   \\\\\n",
    "0.17 & 0.79   \\\\\n",
    "0.2 & 0.9   \\\\\n",
    "0.25 & 1.01  \\\\\n",
    "0.26 & 1.10  \\\\\n",
    "0.32 & 1.20   \\\\\n",
    "0.4 & 1.27   \\\\\n",
    "0.49 & 1.34   \\\\\n",
    "0.5 & 1.42  \\\\\n",
    "0.58 & 1.50   \\\\\n",
    "0.6 & 1.55   \\\\\n",
    "\\hline\n",
    "\\end{array}\n",
    "\\end{aligned}\n",
    "$$\n",
    "\n",
    "\n",
    "realice lo siguiente:\n",
    "\n",
    "- Proponga un cambio de variable que le permita tener un modelo lineal para los datos y grafíquelos.\n",
    "\n",
    "- Estime un valor aproximado de la constante de la aceleración de la gravedad utilizando una regresión lineal.\n",
    " \n",
    "- Usando el modelo anterior, estime el periodo de un péndulo de longitud 2500 milímetros.\n",
    "\n",
    "- Encuentre el polinomio interpolante de Lagrange que pasa por los primeros cuatro pares de datos linealizados y muestre su gráfico. \n",
    "\n",
    "- Compare el valor del periodo un péndulo de 50 centímetros que se obtiene utilizando el polinomio interpolante y la regresión lineal y explique cuál predicción es más confiable.\n",
    "\n",
    "- De manera similar al punto anterior, compare el valor del periodo un péndulo de 300 centímetros usando el polinomio interpolante y la regresión lineal y explique cual predicción es más confiable en este caso.\n"
   ]
  },
  {
   "cell_type": "markdown",
   "id": "73af0372",
   "metadata": {},
   "source": [
    "**Ayuda:** Para evitar transcribir los datos de la tabla manualmente, a continuación se proporcionan las los datos de la tabla en forma de listas de python."
   ]
  },
  {
   "cell_type": "code",
   "execution_count": 2,
   "id": "a60f1e70",
   "metadata": {},
   "outputs": [],
   "source": [
    "longitud  = [0.1,0.17,0.2,0.25,0.26,0.32,0.4,0.49,0.5,0.58,0.6   ]\n",
    "periodo   = [0.65,0.79,0.9,1.01,1.10,1.20,1.27,1.34,1.42,1.50,1.55  ]"
   ]
  },
  {
   "cell_type": "markdown",
   "id": "59839b9f",
   "metadata": {},
   "source": [
    "\n",
    "\n",
    "\n",
    "# Sucesiones"
   ]
  },
  {
   "cell_type": "markdown",
   "id": "cb8b75c7",
   "metadata": {},
   "source": [
    "### El método del punto fijo para hallar raices de polinomios "
   ]
  },
  {
   "cell_type": "markdown",
   "id": "b6312198",
   "metadata": {},
   "source": [
    "El método del **punto fijo** es una potente herramienta para hallar, entre otras cosas, ceros de funciones. La idea básica se basa en que la sucesión\n",
    "\n",
    "$$x_{n+1}:=g(x_n), \\quad n=0,1,2,3,.....$$\n",
    "\n",
    "Converge a un valor fijo si \n",
    "\n",
    "$$ \\Big| \\dfrac{d g(x)}{d x} \\Big| <1 $$ \n",
    "\n",
    "para todo valor de $x$. Si la sucesión converge a un valor fijo significa que \n",
    "\n",
    "$$\\lim_{n\\to \\infty} \\big| x_{n+1} - g(x_n) \\big| = 0.$$"
   ]
  },
  {
   "cell_type": "markdown",
   "id": "23e00b8d",
   "metadata": {},
   "source": [
    "**Ejemplo**\n",
    "\n",
    "Encontremos la raiz de la función $f(x)= x^2 + 4 x + 4.$ "
   ]
  },
  {
   "cell_type": "markdown",
   "id": "96568679",
   "metadata": {},
   "source": [
    "**Solución**\n",
    "\n",
    "Transformemos el problema un una sucesión de punto fijo. Tenemos que:\n",
    "\n",
    "\\begin{eqnarray}\n",
    "x^2 + 4 x + 4 &=&0\n",
    "\\end{eqnarray}\n",
    "\n",
    "Despejando la x obtenemos:\n",
    "\n",
    "$$ x = -1 - \\dfrac{x^2}{4} $$\n",
    "\n",
    "Entonces si definimos $g(x)=-1 - \\dfrac{x^2}{4}$ podemos tener una sucesión de punto fijo $x_{n+1}=g(x_n)$. Note que\n",
    "\n",
    "$$ \\Big| \\dfrac{d g(x)}{d x} \\Big| =  \\big| \\dfrac{x}{2} \\big| <1 \\qquad \\text{para} -2<x<2.$$ "
   ]
  },
  {
   "cell_type": "code",
   "execution_count": 2,
   "id": "344127ba",
   "metadata": {},
   "outputs": [
    {
     "name": "stdout",
     "output_type": "stream",
     "text": [
      "el valor de la raiz de la funcion x**2 + 4*x + 4 es: -1.9386109270660972\n"
     ]
    }
   ],
   "source": [
    "import numpy as np\n",
    "\n",
    "#Definiendo la funcion g(x)\n",
    "def g(x):\n",
    "    return -1 - x**2 / 4\n",
    "\n",
    "\n",
    "#valores iniciales de xn (cercano a la raiz)\n",
    "xn = -1.5\n",
    "\n",
    "#inicializando la diferencia\n",
    "Diferencia = 1\n",
    "\n",
    "\n",
    "while Diferencia > 1e-3:\n",
    "    \n",
    "    #hallando el siguiente valor de la sucesion\n",
    "    xnp1 = g( xn )\n",
    "    \n",
    "    #comparando la diferencia\n",
    "    Diferencia = np.abs( xnp1 - xn )\n",
    "    \n",
    "   \n",
    "    #actualizando la diferencia\n",
    "    xn = xnp1    \n",
    "\n",
    "\n",
    "print(\"el valor de la raiz de la funcion x**2 + 4*x + 4 es:\", xnp1 )    "
   ]
  },
  {
   "cell_type": "code",
   "execution_count": null,
   "id": "f35d6ef7",
   "metadata": {},
   "outputs": [],
   "source": []
  }
 ],
 "metadata": {
  "kernelspec": {
   "display_name": "Python 3",
   "language": "python",
   "name": "python3"
  },
  "language_info": {
   "codemirror_mode": {
    "name": "ipython",
    "version": 3
   },
   "file_extension": ".py",
   "mimetype": "text/x-python",
   "name": "python",
   "nbconvert_exporter": "python",
   "pygments_lexer": "ipython3",
   "version": "3.8.8"
  }
 },
 "nbformat": 4,
 "nbformat_minor": 5
}
