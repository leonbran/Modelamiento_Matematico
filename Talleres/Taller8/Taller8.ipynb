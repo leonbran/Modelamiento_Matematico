{
 "cells": [
  {
   "cell_type": "markdown",
   "id": "41ce6a27",
   "metadata": {},
   "source": [
    "# Taller8 - Sucesiones y ecuaciones en diferencias"
   ]
  },
  {
   "cell_type": "markdown",
   "id": "397ef0e8",
   "metadata": {},
   "source": [
    "**Recordar: Ecuación en differencias**"
   ]
  },
  {
   "cell_type": "markdown",
   "id": "6e25fa22",
   "metadata": {},
   "source": [
    "Es una expression del tipo\n",
    "\n",
    "$$F(y_{n+k} , y_{n+k-1} , ..., y_{n}, n ) = 0$$\n",
    "\n",
    "Donde $F$ es una funcion dada y $k$ es un entero positivo que da el orden de la ecuación. \n",
    "\n",
    "Una solución de la ecuación en diferencias es toda sucesión $\\{ yn \\}$ que satisface la ecuacion para **TODO** n. \n"
   ]
  },
  {
   "cell_type": "markdown",
   "id": "e4d0fba6",
   "metadata": {},
   "source": [
    "### Ejercicio (Sucesiones)\n",
    "\n",
    "\n"
   ]
  },
  {
   "cell_type": "markdown",
   "id": "4c3b7535",
   "metadata": {},
   "source": [
    "El tamaño $\\{ yn \\}$ de una población de personas en $n$ días, con una población inicial de y_0=10, se determina por la siguiente ecuación en diferencias\n",
    "\n",
    "$$  y_{n+1} = \\dfrac{1}{2} y_{n} + 3  ,\\quad \\text{para } 0\\leq n.$$\n",
    "\n",
    "-   Obtenga el valor $20-$ésimo de la población a partir de la condición inicial.\n",
    "\n",
    "\n",
    "-  Evaluando las diferencias $\\| y_{n+1} - y_{n} \\|$, determine el valor de  $n$ a partir del cual la población crece menos de $10^-4$ personas por dia.  \n",
    "\n",
    "\n",
    "-  Obtenga la gráfica que describe el crecimiento de la población y determine, en caso de tener, su punto de equilibrio.\n",
    "\n",
    "\n"
   ]
  },
  {
   "cell_type": "markdown",
   "id": "471f9d40",
   "metadata": {},
   "source": [
    "### Ejercicio (ecuaciones en diferencias)"
   ]
  },
  {
   "cell_type": "markdown",
   "id": "9ea912ca",
   "metadata": {},
   "source": [
    "Suponga que la población de plantas en una cierta porcion de terreno se modela por la siguiente función\n",
    "\n",
    "$$f(x) = e^{-x} + x - 2 $$\n",
    "\n",
    "Donde $x$ es la concentración de abono en la porción de terreno medido en $cm^3$. \n",
    "\n",
    "\n",
    "- Usando el metodo del punto fijo, proponga una ecuación en diferencias para determinar la cantidad de abono inicial en la tierra. Note que inicialmente no hay plantas en la porcion de tierra.\n",
    "\n",
    "\n",
    "- Usando la ecuación anterior, calcule numericamente la concentración inicial de abono en la porcion de terreno. \n"
   ]
  },
  {
   "cell_type": "markdown",
   "id": "bf130208",
   "metadata": {},
   "source": [
    "### Modelo exponencial y logistico (opcional)"
   ]
  },
  {
   "cell_type": "markdown",
   "id": "4249c635",
   "metadata": {},
   "source": [
    "Suponga que se tiene un cultivo de levadura (hongo que genera alcohol) actuando sobre una cierta cantidad de cebada. En el archivo de datos \"Levadura.csv\" se registran la población de levadura presente en el cultivo para cierto tiempo medido en horas. Utilizando esta información, y asumiendo que el crecimiento de la población de la levadura satisface un modelo logístico, es decir:\n",
    "\n",
    "$$ \\Delta P_{n} = P_{n} (\\kappa - \\beta P_{n})   $$\n",
    "\n",
    "- Donde $\\Delta P_{n} := P_{n+1} - P_{n} $. \n",
    "- Donde $n$ es el tiempo medido en horas. \n",
    "- Donde $P_{n}$ es la población de levadura presente en el cultivo. \n",
    "- Donde $k$ es la tasa de crecimiento. \n",
    "- Donde $\\beta$ es la Tasa limite de crecimiento.\n",
    "\n",
    "Basado en lo anterior, estime cual es el valor inicial de la población de levadura presente en el cultivo."
   ]
  },
  {
   "cell_type": "code",
   "execution_count": null,
   "id": "10a21885",
   "metadata": {},
   "outputs": [],
   "source": []
  }
 ],
 "metadata": {
  "kernelspec": {
   "display_name": "Python 3",
   "language": "python",
   "name": "python3"
  },
  "language_info": {
   "codemirror_mode": {
    "name": "ipython",
    "version": 3
   },
   "file_extension": ".py",
   "mimetype": "text/x-python",
   "name": "python",
   "nbconvert_exporter": "python",
   "pygments_lexer": "ipython3",
   "version": "3.8.8"
  }
 },
 "nbformat": 4,
 "nbformat_minor": 5
}
