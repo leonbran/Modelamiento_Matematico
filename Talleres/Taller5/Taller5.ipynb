{
 "cells": [
  {
   "cell_type": "markdown",
   "id": "805eafe4",
   "metadata": {},
   "source": [
    "# Taller5  \n"
   ]
  },
  {
   "cell_type": "markdown",
   "id": "b96beaa4",
   "metadata": {},
   "source": [
    "**0.** Guardando datos en archivos (clase pasada)"
   ]
  },
  {
   "cell_type": "code",
   "execution_count": 5,
   "id": "174186c6",
   "metadata": {},
   "outputs": [
    {
     "name": "stdout",
     "output_type": "stream",
     "text": [
      "[[ 1.  2.]\n",
      " [ 2.  4.]\n",
      " [ 3.  6.]\n",
      " [ 4.  8.]\n",
      " [ 5. 10.]\n",
      " [ 6. 12.]\n",
      " [ 7. 14.]\n",
      " [ 8. 16.]\n",
      " [ 9. 18.]\n",
      " [10. 20.]]\n"
     ]
    }
   ],
   "source": [
    "\"\"\"\n",
    "Escritura de arreglos tipo numpy en un archivos. \n",
    "\"\"\"\n",
    "\n",
    "import numpy as np \n",
    "from  matplotlib import pyplot as plt\n",
    "\n",
    "\n",
    "# -------------guardando dos columna-----------------\n",
    "n = 10\n",
    "x = np.linspace(1, 10 , n)\n",
    "y = np.linspace(2, 20 , n)\n",
    "\n",
    "\n",
    "# hacer dos columnas, crear un arreglo\n",
    "datosDosColumnas = np.column_stack(  (x, y)  )\n",
    "\n",
    " \n",
    "# guardado de numpy!!!!\n",
    "np.savetxt('archivo.dat', datosDosColumnas, header = \"X-Columna, Y-Columna\")"
   ]
  },
  {
   "cell_type": "markdown",
   "id": "7032cc49",
   "metadata": {},
   "source": [
    "**1.** Lectura de datos (nuevo)"
   ]
  },
  {
   "cell_type": "code",
   "execution_count": 7,
   "id": "e7879252",
   "metadata": {},
   "outputs": [
    {
     "name": "stdout",
     "output_type": "stream",
     "text": [
      "los datos recuperados son:\n",
      " [[ 1.  2.]\n",
      " [ 2.  4.]\n",
      " [ 3.  6.]\n",
      " [ 4.  8.]\n",
      " [ 5. 10.]\n",
      " [ 6. 12.]\n",
      " [ 7. 14.]\n",
      " [ 8. 16.]\n",
      " [ 9. 18.]\n",
      " [10. 20.]]\n"
     ]
    },
    {
     "data": {
      "image/png": "[encoded data removed]",
      "text/plain": [
       "<Figure size 432x288 with 1 Axes>"
      ]
     },
     "metadata": {
      "needs_background": "light"
     },
     "output_type": "display_data"
    }
   ],
   "source": [
    "# recuperando datos\n",
    "datosRecuperados = np.loadtxt('archivo.dat')\n",
    "\n",
    "\n",
    "#ver los datos recuperados, imprimiendolos en pantalla\n",
    "print(\"los datos recuperados son:\\n\", datosRecuperados)\n",
    " \n",
    "\n",
    "# obtener los datos por separado (Note automaticamente descarta los headers!!!)\n",
    "x2 = datosRecuperados[:, 0] # toda la primera columna\n",
    "y2 = datosRecuperados[:, 1] # toda la segunda columna\n",
    "\n",
    "\n",
    "#graficar los datos recuperados\n",
    "plt.plot(x2,y2 , marker='o')\n",
    "plt.xlabel('eje de las x')\n",
    "plt.ylabel('eje de las y')\n",
    "plt.show() "
   ]
  },
  {
   "cell_type": "markdown",
   "id": "8d8d5571",
   "metadata": {},
   "source": [
    "### Ejercicio\n",
    "\n"
   ]
  },
  {
   "cell_type": "markdown",
   "id": "f436414a",
   "metadata": {},
   "source": [
    "**a.** Lea los datos contenidos en el archivo 'archivo1.dat'.\n",
    "\n",
    "**b.** Grafique los datos establezca  si la relación de proporcionalidad entre los datos es directa o inversa.\n",
    "\n",
    "**c.** Determine la constante de proporcionalidad.   "
   ]
  },
  {
   "cell_type": "markdown",
   "id": "a6241cbf",
   "metadata": {},
   "source": [
    "\n",
    "**Solución**\n"
   ]
  },
  {
   "cell_type": "markdown",
   "id": "b8abd3fc",
   "metadata": {},
   "source": [
    "\n",
    "\n",
    "\n",
    "\n",
    "\n",
    "\n",
    "\n",
    "**1.**"
   ]
  },
  {
   "cell_type": "code",
   "execution_count": 71,
   "id": "797ad641",
   "metadata": {},
   "outputs": [
    {
     "data": {
      "image/png": "[encoded data removed]",
      "text/plain": [
       "<Figure size 432x288 with 1 Axes>"
      ]
     },
     "metadata": {
      "needs_background": "light"
     },
     "output_type": "display_data"
    }
   ],
   "source": [
    "# recuperando datos\n",
    "datos = np.loadtxt('datos.dat')\n",
    "\n",
    "# obtener los datos por separado (Note automaticamente descarta los headers!!!)\n",
    "x = datos[:, 0] # toda la primera columna\n",
    "y = datos[:, 1] # toda la segunda columna\n",
    "\n",
    "#graficar los datos recuperados\n",
    "plt.plot(x,y , marker='o')\n",
    "plt.xlabel('eje de las x')\n",
    "plt.ylabel('eje de las y')\n",
    "plt.show() "
   ]
  },
  {
   "cell_type": "markdown",
   "id": "9007246d",
   "metadata": {},
   "source": [
    "2. La relación de proporcionalidad es inversa! entonces los datos deben estar relacionados como:\n",
    "   \n",
    "$$ y = c / x $$\n",
    "    \n",
    "   \n",
    "    "
   ]
  },
  {
   "cell_type": "markdown",
   "id": "af652873",
   "metadata": {},
   "source": [
    "3. Estimando el valor de la constante: para cada valore de x y y tenemos que e debe cumplir:\n",
    "\n",
    "$$ y x = c  $$\n",
    "\n",
    "Lo cual nos da un valor de $c$ para cada punto. Entonces, podemos aproximar $c$ como el promedio:\n"
   ]
  },
  {
   "cell_type": "code",
   "execution_count": 72,
   "id": "bde8fa4b",
   "metadata": {},
   "outputs": [
    {
     "name": "stdout",
     "output_type": "stream",
     "text": [
      "\n",
      "\n",
      "[3.09088305 3.11725955 3.23402466 3.29147986 3.27079001 3.4301211\n",
      " 3.33434335 3.44600679 3.23349214 3.51303509]\n",
      "\n",
      "\n",
      "Valor aproximado de la constante =  3.2961435604158753\n"
     ]
    }
   ],
   "source": [
    "#encontrando la constante de proporcionalidad\n",
    "C = y * x\n",
    "\n",
    "print(\"\\n\")\n",
    "print(C)\n",
    "\n",
    "\n",
    "#tomando el promedio\n",
    "Constante = np.mean(C)\n",
    "\n",
    "\n",
    "print(\"\\n\")\n",
    "print(\"Valor aproximado de la constante = \", Constante)"
   ]
  },
  {
   "cell_type": "code",
   "execution_count": null,
   "id": "c0116f54",
   "metadata": {},
   "outputs": [],
   "source": []
  },
  {
   "cell_type": "markdown",
   "id": "6da90fe7",
   "metadata": {},
   "source": [
    "**(EN CASO DE SER NECESARIO) GENERAR EL ARCHIVO DE DATOS CON UN LEVE RUIDO**"
   ]
  },
  {
   "cell_type": "code",
   "execution_count": 73,
   "id": "20d9e785",
   "metadata": {},
   "outputs": [],
   "source": [
    "import random, numpy\n",
    "n=10\n",
    "\n",
    "x = np.linspace(1, 10    , n)\n",
    "y = 3/x +  np.random.random_sample( len(x) )*1e-1\n",
    "\n",
    "# hacer dos columnas, crear un arreglo\n",
    "datosDosColumnas = np.column_stack(  (x, y)  )\n",
    "\n",
    " \n",
    "# guardado de numpy!!!!\n",
    "np.savetxt('datos.dat', datosDosColumnas, header = \"X-Columna, Y-Columna\")"
   ]
  },
  {
   "cell_type": "code",
   "execution_count": null,
   "id": "54bdde21",
   "metadata": {},
   "outputs": [],
   "source": []
  },
  {
   "cell_type": "markdown",
   "id": "7dfafb94",
   "metadata": {},
   "source": [
    "# Regresion lineal por minimos cuadrados"
   ]
  },
  {
   "cell_type": "markdown",
   "id": "2a427c0d",
   "metadata": {},
   "source": [
    "Suponga que se tienen dos conjuntos de datos $X=[x_i]$ y $Y=[y_i]$. Entonces, se puede realizar una *regresión lineal* para estableceer uan relacion entre los conjuntos de datos tal que\n",
    "$$Y = \\beta_0 +  \\beta_1 X + \\epsilon,$$\n",
    "en donde $\\beta_0$ (*intercepto*) y $\\beta_1$ (*pendiente*) son los parámetros del modelo y $\\epsilon$ representa el término de error.  La estimación de los parámetros $B$ y $M$ se realiza a través del *método de mínimos cuadrados*.\n",
    "\n",
    "\n",
    "\n",
    "**Método de mínimos cuadrados**\n",
    "\n",
    "La idea del método es minimizar la suma de las diferencias cuadráticas (el error) entre los valores generados ($Y_i$) por la función modelo y los correspondientes valores de los datos reales ($y_i$). Es decir, encontrar los valores de $\\beta_0$ y $\\beta_1$ tales que la función  \n",
    "$$E(\\beta_0, \\beta_1) = \\sum_{i=1}^n\\left[ y_i - Y_i \\right]^2 = \\sum_{i=1}^n\\left[ y_i - (\\beta_0 + \\beta_1\\,x_i)\\right]^2$$ \n",
    " tenga que mínimo valor posible.\n",
    "\n",
    "\n",
    "\n",
    "\n",
    "- Evaluación de los  parámetros a partir de los datos: al realizar el proceso de minimización de la función $E(\\beta_0, \\beta_1)$ se obtiene\n",
    "\n",
    "\n",
    "\n",
    "$$\\beta_0  = \\frac{\\left( \\sum_{i=1}^{n} x_i^2\\right) \\left( \\sum_{i=1}^{n} y_i\\right) - \\left( \\sum_{i=1}^{n} x_iy_i\\right)\\left( \\sum_{i=1}^{n} x_i\\right) }{n\\left(\\sum_{i=1}^{n} x_i^2\\right)- \\left( \\sum_{i=1}^{n} x_i\\right)^2}   $$\n",
    "\n",
    "\n",
    "$$\\beta_1 = \\frac{n\\left( \\sum_{i=1}^{n} x_i y_i\\right) - \\left( \\sum_{i=1}^{n} x_i\\right)\\left( \\sum_{i=1}^{n} y_i\\right) }{n\\left(\\sum_{i=1}^{n} x_i^2\\right)- \\left( \\sum_{i=1}^{n} x_i\\right)^2} \\color{white}{........} $$\n",
    "\n"
   ]
  },
  {
   "cell_type": "code",
   "execution_count": 70,
   "id": "b657d920",
   "metadata": {},
   "outputs": [
    {
     "data": {
      "image/png": "[encoded data removed]",
      "text/plain": [
       "<Figure size 432x288 with 1 Axes>"
      ]
     },
     "metadata": {
      "needs_background": "light"
     },
     "output_type": "display_data"
    }
   ],
   "source": [
    "#importamos el modulos de numpy (numeric python)\n",
    "import numpy as np\n",
    "\n",
    "#importamos del módulo matplotlib la libreria pyplot con el alias de plt \n",
    "import matplotlib.pyplot as plt\n",
    "\n",
    "\n",
    "#datos que queremos ajustar\n",
    "x = [1.5  ,2.2  ,3 ,4 ,5  ,6,6.6]\n",
    "y = [0.5,2.5,2.6 ,4 ,3.5,6,5.5]\n",
    "\n",
    "\n",
    "#---------------------------------------------------------\n",
    "#Calculo de la pendiente (m) y el intercepto (b) de la linealizacion\n",
    "n = len(x)\n",
    "\n",
    "#donde almacenaremos los valores de las sumas\n",
    "suma_xi  = 0\n",
    "suma_yi  = 0\n",
    "suma_xixi= 0\n",
    "suma_xiyi= 0\n",
    "\n",
    "for i in range( n ):        \n",
    "    suma_xi   += x[i]\n",
    "    suma_yi   += y[i]\n",
    "    suma_xixi += x[i]**2\n",
    "    suma_xiyi += x[i]*y[i]\n",
    "\n",
    "#aplicado las formulas\n",
    "\n",
    "beta1 = (n  * suma_xiyi      - suma_xi   * suma_yi) / (n * suma_xixi - suma_xi**2)\n",
    "\n",
    "beta0 = (suma_xixi * suma_yi - suma_xiyi * suma_xi) / (n * suma_xixi - suma_xi**2)\n",
    "\n",
    "\n",
    "#Linea recta aproximada\n",
    "L = beta1 * np.array(x) + beta0  #note que aqui toca transformar la lista de x a un arreglo!\n",
    "\n",
    "#---------------------------------------------------------\n",
    " \n",
    "\n",
    " \n",
    "#--------------graficando---------------------------\n",
    "#Graficando las parejas de datos\n",
    "plt.plot(  x  , y , \"or\" , label=\"datos\" )\n",
    "\n",
    "\n",
    "#Graficando la recta segun m y b \n",
    "plt.plot(  x , L , label=\"recta aproximada\"  )\n",
    "\n",
    "\n",
    "#mostrando las legendas del grafico\n",
    "plt.grid()       \n",
    "plt.legend()\n",
    "    \n",
    "#Mostrando el gráfico\n",
    "plt.show()    \n",
    "     "
   ]
  },
  {
   "cell_type": "markdown",
   "id": "72f9c8b6",
   "metadata": {},
   "source": [
    "# Regresion linal usando el modulo scipy"
   ]
  },
  {
   "cell_type": "code",
   "execution_count": 49,
   "id": "85ec9278",
   "metadata": {},
   "outputs": [
    {
     "name": "stdout",
     "output_type": "stream",
     "text": [
      "Name: scipy\r\n",
      "Version: 1.6.2\r\n",
      "Summary: SciPy: Scientific Library for Python\r\n",
      "Home-page: https://www.scipy.org\r\n",
      "Author: None\r\n",
      "Author-email: None\r\n",
      "License: BSD\r\n",
      "Location: /home/leon/anaconda3/lib/python3.8/site-packages\r\n",
      "Requires: numpy\r\n",
      "Required-by: jitcode, statsmodels, seaborn, scikit-learn, scikit-image\r\n"
     ]
    }
   ],
   "source": [
    "! pip show scipy"
   ]
  },
  {
   "cell_type": "code",
   "execution_count": 51,
   "id": "48bc4493",
   "metadata": {},
   "outputs": [],
   "source": [
    "from scipy import stats   # Carga el módulo de herramientas estadísticas "
   ]
  },
  {
   "cell_type": "code",
   "execution_count": 68,
   "id": "efb477d4",
   "metadata": {},
   "outputs": [
    {
     "data": {
      "image/png": "[encoded data removed]",
      "text/plain": [
       "<Figure size 432x288 with 1 Axes>"
      ]
     },
     "metadata": {
      "needs_background": "light"
     },
     "output_type": "display_data"
    }
   ],
   "source": [
    "#datos que queremos ajustar\n",
    "x = [1.5  ,2.2  ,3 ,4 ,5  ,6,6.6]\n",
    "y = [0.5,2.5,2.6 ,4 ,3.5,6,5.5]\n",
    "\n",
    "\n",
    "#Haciendo la regresion lineal con scipy\n",
    "regresion_lineal = stats.linregress(x,y)\n",
    "\n",
    "# Resultados del análisis\n",
    "beta0 = regresion_lineal.intercept   # Intercepto\n",
    "beta1 = regresion_lineal.slope       # Pendiente \n",
    "\n",
    "\n",
    "L2 =   beta1* np.array(x) + beta0\n",
    "\n",
    "\n",
    "#--------------graficando---------------------------\n",
    "#Graficando las parejas de datos\n",
    "plt.plot(  x  , y , \"or\" , label=\"datos\" )\n",
    "\n",
    "\n",
    "#Graficando la recta segun m y b \n",
    "plt.plot(  x , L2 , label=\"recta aproximada con scipy\"  )\n",
    "\n",
    "\n",
    "#mostrando las legendas del grafico\n",
    "plt.grid()       \n",
    "plt.legend()\n",
    "    \n",
    "#Mostrando el gráfico\n",
    "plt.show()    \n"
   ]
  },
  {
   "cell_type": "code",
   "execution_count": null,
   "id": "9f12fcc6",
   "metadata": {},
   "outputs": [],
   "source": []
  }
 ],
 "metadata": {
  "kernelspec": {
   "display_name": "Python 3",
   "language": "python",
   "name": "python3"
  },
  "language_info": {
   "codemirror_mode": {
    "name": "ipython",
    "version": 3
   },
   "file_extension": ".py",
   "mimetype": "text/x-python",
   "name": "python",
   "nbconvert_exporter": "python",
   "pygments_lexer": "ipython3",
   "version": "3.8.8"
  }
 },
 "nbformat": 4,
 "nbformat_minor": 5
}
