{
 "cells": [
  {
   "cell_type": "markdown",
   "id": "30551f4b",
   "metadata": {},
   "source": [
    "# Elementos básicos de funciones"
   ]
  },
  {
   "cell_type": "markdown",
   "id": "aaee7cf7",
   "metadata": {},
   "source": [
    "**Ejercicio para reforzar ciclos:** Usnado un ciclo while, realize un programa que verifique si un cierto número entero dado es o no primo. "
   ]
  },
  {
   "cell_type": "code",
   "execution_count": null,
   "id": "eb6ce594",
   "metadata": {},
   "outputs": [],
   "source": [
    "#SOLUCION\n",
    "\n",
    "#Ingresar numero natural para verificar si es o no primo\n",
    "numero= 13\n",
    "\n",
    "\n",
    "#Inicializamos la variable booleana \"EsPrimo\" que indica si un numero es promo en valor verdadero (True)\n",
    "EsPrimo=True\n",
    "\n",
    "\n",
    "#inicializar el contdaor\n",
    "n = 2\n",
    "\n",
    "while n < numero:       \n",
    "    \n",
    "    #verificando si n divide a numero con la operacion modular % ( m % n = residual de la division )\n",
    "    if numero % n == 0:         \n",
    "                   \n",
    "        #Cambiamos el valor de la variable booleana \"EsPrimo\" a valor falso (False)\n",
    "        EsPrimo=False \n",
    "        n = numero     \n",
    "    \n",
    "    #Incrementamos el contador en una unidad\n",
    "    n += 1\n",
    "    \n",
    "    \n",
    "if EsPrimo==True:            \n",
    "    print(\"El numero %i es primo\" %numero)\n",
    "\n",
    "else:            \n",
    "    print(\"El numero %i NO es primo!\"% numero)  "
   ]
  },
  {
   "cell_type": "markdown",
   "id": "70ab4a5f",
   "metadata": {},
   "source": [
    "# Definición de Funciones"
   ]
  },
  {
   "cell_type": "markdown",
   "id": "ec3a3f4f",
   "metadata": {},
   "source": [
    " 1. **Funciones :** Estructura basica de como definir funciones con uno o varios argumentos en python. "
   ]
  },
  {
   "cell_type": "code",
   "execution_count": 4,
   "id": "c330f489",
   "metadata": {},
   "outputs": [],
   "source": [
    "#Definir una funcion\n",
    "def Mifuncion( x ):   \n",
    "    return  x**2 + x + 1 \n",
    "    \n",
    "    \n",
    "#Evaluar una funcion definida   \n",
    "print(\"Evaluando la funcion en 12: \",  Mifuncion( 12 ) )\n",
    "print(\"Evaluando la funcion en 1:  \",  Mifuncion( 1  ) )\n",
    "print(\"Evaluando la funcion en 9:  \",  Mifuncion( 9 ) )   \n",
    "    \n",
    "    "
   ]
  },
  {
   "cell_type": "code",
   "execution_count": 10,
   "id": "a6c12ae5",
   "metadata": {},
   "outputs": [
    {
     "name": "stdout",
     "output_type": "stream",
     "text": [
      "Evaluando la funcion de dos variables:   7\n",
      "Evaluando la funcion de dos variables:   156\n",
      "Evaluando la funcionde dos variables:    13\n"
     ]
    }
   ],
   "source": [
    "#Definir una funcion con varios argumentos\n",
    "def FuncionDosVariables( x , y ):   \n",
    "    return  x**2 + y + y**2  \n",
    "\n",
    " \n",
    "#Evaluar una funcion definida   \n",
    "print(\"Evaluando la funcion de dos variables:  \",  FuncionDosVariables( 1 ,  2  ) )\n",
    "print(\"Evaluando la funcion de dos variables:  \",  FuncionDosVariables( 0 , 12  ) )\n",
    "print(\"Evaluando la funcionde dos variables:   \",  FuncionDosVariables( -1, 3   ) )   "
   ]
  },
  {
   "cell_type": "code",
   "execution_count": 11,
   "id": "572e0c11",
   "metadata": {},
   "outputs": [
    {
     "name": "stdout",
     "output_type": "stream",
     "text": [
      " llamar la funcion sin argumentos:  HOLA!\n"
     ]
    }
   ],
   "source": [
    "#Definir funcion SIN argumentos\n",
    "\n",
    "def Saludar( ):\n",
    "    #Esta funcion se evaluar tan solo con llamarla\n",
    "        \n",
    "    return \"HOLA!\"\n",
    "\n",
    "\n",
    "print(\" llamar la funcion sin argumentos: \" , Saludar() )\n"
   ]
  },
  {
   "cell_type": "code",
   "execution_count": 13,
   "id": "2ea2fa73",
   "metadata": {},
   "outputs": [
    {
     "data": {
      "text/plain": [
       "3"
      ]
     },
     "execution_count": 13,
     "metadata": {},
     "output_type": "execute_result"
    }
   ],
   "source": [
    "#Definir una funcion con varios argumentos y estructuras condicionales  \n",
    "def MiFuncion3( x ,  condicion ):           \n",
    "    if condicion ==True:\n",
    "        return  x**2    \n",
    "            \n",
    "    else:\n",
    "        return  x \n",
    "    \n",
    "\n",
    "Lineal = False    \n",
    "\n",
    "MiFuncion3( 3 , Lineal)\n",
    "    \n",
    "         "
   ]
  },
  {
   "cell_type": "markdown",
   "id": "95f7076b",
   "metadata": {},
   "source": [
    "**2. Grafico de funciones (parte1) :** Grafico de funciones usando el modulo matplotlib.pyplot. Un ejemplo"
   ]
  },
  {
   "cell_type": "code",
   "execution_count": 32,
   "id": "5baf521c",
   "metadata": {},
   "outputs": [
    {
     "name": "stdout",
     "output_type": "stream",
     "text": [
      "Dats totales =  [[0, 1, 2, 3, 4, 5, 6, 7, 8, 9, 10], [5, 10, 19, 32, 49, 70, 95, 124, 157, 194, 235]]\n"
     ]
    },
    {
     "data": {
      "image/png": "[encoded data removed]",
      "text/plain": [
       "<Figure size 432x288 with 1 Axes>"
      ]
     },
     "metadata": {
      "needs_background": "light"
     },
     "output_type": "display_data"
    }
   ],
   "source": [
    "#importamos del módulo matplotlib la libreria pyplot con el alias de plt \n",
    "#(esto nos permitira graficar las funciones).\n",
    "import matplotlib.pyplot as plt\n",
    "\n",
    "\n",
    "\n",
    "#definiendo la funcion que queremos graficar\n",
    "def MiFuncionCuadratica(x , a, b , c):\n",
    "    \n",
    "    #x es el argumentos\n",
    "    \n",
    "    # a, b, c son los parametros\n",
    "           \n",
    "    return a*x**2 + b*x + c\n",
    "\n",
    "\n",
    "\n",
    "#Definiendo listas de datos de entrada\n",
    "DatosX = []\n",
    "DatosY = []\n",
    "\n",
    "\n",
    "\n",
    "#Lenamos la lista de datos X con los argumentos que queremos\n",
    "DatosX += list( range(0 , 11 , 1 ) )\n",
    "\n",
    "\n",
    "#Dando los valores de los coeficientes\n",
    "a = 2 \n",
    "b = 3\n",
    "c = 5\n",
    "\n",
    "\n",
    "\n",
    "#Evaluando la funcion y LLENADO LA LISTAS DE DATOS de Y!\n",
    "for x in DatosX:\n",
    "\n",
    "    #Calculando el cuadrado de x\n",
    "    y = MiFuncionCuadratica(x , a, b , c)\n",
    "\n",
    "    #adicionando el dato a la lista de datos\n",
    "    DatosY += [y]\n",
    "\n",
    "\n",
    "\n",
    "#Definiendo la lista de listas\n",
    "DatosTotales = [ DatosX , DatosY ]\n",
    "\n",
    "#Imprimiendo los datos en la pantalla\n",
    "print(\"Dats totales = \",DatosTotales)\n",
    "\n",
    "\n",
    "#Graficando las dos listas de valores\n",
    "plt.plot(DatosX,DatosY)\n",
    "\n",
    "\n",
    "#(OPCIONAL) Graficando las dos listas de valores (poniendo los puntos)\n",
    "plt.plot(DatosX,DatosY ,'*')\n",
    "\n",
    "\n",
    "\n",
    "\n",
    "#poniendo nombres a de los ejes (IMPORTANTE)\n",
    "plt.xlabel('x')\n",
    "plt.ylabel('y')\n",
    "\n",
    "\n",
    "#nombre del gráfico\n",
    "plt.title('Grafico de y= a * x**2 + b * x + c')\n",
    " \n",
    "\n",
    "#(OPCIONAL) nombre del gráfico con los valores de los coeficientes (USANDO SUMA DE STRINGS)   \n",
    "#plt.title('Grafico de y =' + str(a) + 'x**2 +' +str(b) + 'x +' + str(c) )    \n",
    "        \n",
    "    \n",
    "#Mostrando el gráfico\n",
    "plt.show()"
   ]
  },
  {
   "cell_type": "markdown",
   "id": "a3f73dc5",
   "metadata": {},
   "source": [
    "### Ejercicio"
   ]
  },
  {
   "cell_type": "markdown",
   "id": "ee96d136",
   "metadata": {},
   "source": [
    "Realizar el graficos del siguiente polinomio $a x^3 + b x^2 + c x + d$ en el dominio disjunto $[-10,-2]$ y $[2,10]$ para cualquier valor de los parametros a,b, c y d. "
   ]
  },
  {
   "cell_type": "markdown",
   "id": "1978f243",
   "metadata": {},
   "source": [
    "**Solución**"
   ]
  },
  {
   "cell_type": "code",
   "execution_count": 26,
   "id": "f5fd8505",
   "metadata": {},
   "outputs": [
    {
     "name": "stdout",
     "output_type": "stream",
     "text": [
      "Dats totales =  [[-10, -9, -8, -7, -6, -5, -4, -3, -2, 2, 3, 4, 5, 6, 7, 8, 9, 10], [-1750, -1260, -872, -574, -354, -200, -100, -42, -14, 38, 96, 196, 350, 570, 868, 1256, 1746, 2350]]\n"
     ]
    },
    {
     "data": {
      "image/png": "[encoded data removed]",
      "text/plain": [
       "<Figure size 432x288 with 1 Axes>"
      ]
     },
     "metadata": {
      "needs_background": "light"
     },
     "output_type": "display_data"
    }
   ],
   "source": [
    "#importamos del módulo matplotlib la libreria pyplot con el alias de plt \n",
    "#(esto nos permitira graficar las funciones).\n",
    "import matplotlib.pyplot as plt\n",
    "\n",
    "\n",
    "#definiendo la funcion que queremos graficar\n",
    "def MiFuncionCuadratica(x , a, b , c, d):\n",
    "    \n",
    "    #x es el argumentos\n",
    "    \n",
    "    # a, b, c, y d son los parametros\n",
    "           \n",
    "    return  a*x**3 + b*x**2 + c*x + d\n",
    "\n",
    "\n",
    "\n",
    "#Definiendo listas de datos de entrada\n",
    "DatosX = []\n",
    "DatosY = []\n",
    "\n",
    "\n",
    "\n",
    "#Lenamos la lista de datos X con los argumentos que queremos\n",
    "DatosX += list( range(-10 , -1 , 1 ) )\n",
    "DatosX += list( range( 2 ,  11 , 1 ) )\n",
    "\n",
    "#Dando los valores de los coeficientes\n",
    "a = 2 \n",
    "b = 3\n",
    "c = 5\n",
    "d = 0\n",
    "\n",
    "\n",
    "\n",
    "#Evaluando la funcion y LLENADO LA LISTAS DE DATOS de Y!\n",
    "for x in DatosX:\n",
    "\n",
    "    #Calculando el cuadrado de x\n",
    "    y = MiFuncionCuadratica(x , a, b , c , d)\n",
    "\n",
    "    #adicionando el dato a la lista de datos\n",
    "    DatosY += [y]\n",
    "\n",
    "\n",
    "\n",
    "#Definiendo la lista de listas\n",
    "DatosTotales = [ DatosX , DatosY ]\n",
    "\n",
    "#Imprimiendo los datos en la pantalla\n",
    "print(\"Datos totales = \",DatosTotales)\n",
    "\n",
    "\n",
    "#Graficando las dos listas de valores\n",
    "plt.plot(DatosX,DatosY)\n",
    "\n",
    "\n",
    "#poniendo nombres a de los ejes (IMPORTANTE)\n",
    "plt.xlabel('x')\n",
    "plt.ylabel('y')\n",
    "\n",
    "\n",
    "#nombre del gráfico\n",
    "plt.title('Grafico de y= a * x**2 + b * x + c')\n",
    " \n",
    "\n",
    "#(OPCIONAL) nombre del gráfico con los valores de los coeficientes (USANDO SUMA DE STRINGS)   \n",
    "#plt.title('Grafico de y =' + str(a) + 'x**2 +' +str(b) + 'x +' + str(c) )    \n",
    "        \n",
    "    \n",
    "#Mostrando el gráfico\n",
    "plt.show()"
   ]
  },
  {
   "cell_type": "code",
   "execution_count": null,
   "id": "d20f0415",
   "metadata": {},
   "outputs": [],
   "source": []
  }
 ],
 "metadata": {
  "kernelspec": {
   "display_name": "Python 3",
   "language": "python",
   "name": "python3"
  },
  "language_info": {
   "codemirror_mode": {
    "name": "ipython",
    "version": 3
   },
   "file_extension": ".py",
   "mimetype": "text/x-python",
   "name": "python",
   "nbconvert_exporter": "python",
   "pygments_lexer": "ipython3",
   "version": "3.8.8"
  }
 },
 "nbformat": 4,
 "nbformat_minor": 5
}
