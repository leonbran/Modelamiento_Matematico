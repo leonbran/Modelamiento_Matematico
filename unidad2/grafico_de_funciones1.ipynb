{
 "cells": [
  {
   "cell_type": "markdown",
   "id": "9251afd8",
   "metadata": {},
   "source": [
    "# Gráfico de funciones 1 "
   ]
  },
  {
   "cell_type": "code",
   "execution_count": null,
   "id": "48fdcb8b",
   "metadata": {},
   "outputs": [],
   "source": [
    "#---------------------------------------#\n",
    "Introducción al Modelamiento Matemático\n",
    "Facultad de Ciencias Naturales y Exactas\n",
    "Universidad del Valle\n",
    "2021\n",
    "#---------------------------------------#"
   ]
  },
  {
   "cell_type": "markdown",
   "id": "bdad678c",
   "metadata": {},
   "source": [
    "**Descripcion:** En este programa se muestra como graficar la función $y=x^2$\n",
    "en el dominio $[0,10]$ mediante la implementación listas."
   ]
  },
  {
   "cell_type": "code",
   "execution_count": 1,
   "id": "32d2265c",
   "metadata": {},
   "outputs": [
    {
     "name": "stdout",
     "output_type": "stream",
     "text": [
      "Dats totales =  [[0, 1, 2, 3, 4, 5, 6, 7, 8, 9, 10], [0, 1, 4, 9, 16, 25, 36, 49, 64, 81, 100]]\n"
     ]
    },
    {
     "data": {
      "image/png": "[encoded data removed]",
      "text/plain": [
       "<Figure size 432x288 with 1 Axes>"
      ]
     },
     "metadata": {
      "needs_background": "light"
     },
     "output_type": "display_data"
    }
   ],
   "source": [
    "#importamos del módulo matplotlib la libreria pyplot con el alias de plt \n",
    "#(esto no permitira graficar las funciones).\n",
    "import matplotlib.pyplot as plt\n",
    "\n",
    "#Definiendo listas vacias\n",
    "DatosX = []\n",
    "DatosY = []\n",
    "\n",
    "\n",
    "for x in range(11):\n",
    "\n",
    "\t#Calculando el cuadrado de x\n",
    "\ty = x ** 2\n",
    "\n",
    "\t#Agregando valor de x a lista DatosX\n",
    "\tDatosX.append(x)\n",
    "\t\n",
    "\t#Agregando valor de y a lista DatosY\n",
    "\tDatosY.append(y)\n",
    "\n",
    "#Definiendo la lista de listas\t\t\n",
    "DatosTotales = [ DatosX , DatosY ]\n",
    "\n",
    "#Imprimiendo los datos en la pantalla\n",
    "print(\"Dats totales = \",DatosTotales)\n",
    "\n",
    "\n",
    "#Graficando las dos listas de valores\n",
    "plt.plot(DatosX,DatosY)\n",
    "\n",
    "\n",
    "#poniendo nombres a de los ejes\n",
    "plt.xlabel('x')\n",
    "plt.ylabel('y')\n",
    "\n",
    "\n",
    "#nombre del gráfico\n",
    "plt.title('Grafico de y=x**2')\n",
    " \n",
    "# ajustar tamaño de la figura (ancho y alto)\n",
    "plt.rcParams['figure.figsize'] = [8, 6]\n",
    " \n",
    "#Mostrando el gráfico\n",
    "plt.show()\n"
   ]
  },
  {
   "cell_type": "code",
   "execution_count": null,
   "id": "ec5ba2bd",
   "metadata": {},
   "outputs": [],
   "source": []
  }
 ],
 "metadata": {
  "kernelspec": {
   "display_name": "Python 3",
   "language": "python",
   "name": "python3"
  },
  "language_info": {
   "codemirror_mode": {
    "name": "ipython",
    "version": 3
   },
   "file_extension": ".py",
   "mimetype": "text/x-python",
   "name": "python",
   "nbconvert_exporter": "python",
   "pygments_lexer": "ipython3",
   "version": "3.6.9"
  }
 },
 "nbformat": 4,
 "nbformat_minor": 5
}
