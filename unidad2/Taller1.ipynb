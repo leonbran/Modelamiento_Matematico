{
 "cells": [
  {
   "cell_type": "markdown",
   "id": "d4dce545",
   "metadata": {},
   "source": [
    "# Elementos básicos en python"
   ]
  },
  {
   "cell_type": "markdown",
   "id": "6f2b1260",
   "metadata": {},
   "source": [
    "La funcion type( )  sirve para identificar que tipo de objetos manejamos en python. Ejemplo"
   ]
  },
  {
   "cell_type": "code",
   "execution_count": 4,
   "id": "dca4e949",
   "metadata": {},
   "outputs": [
    {
     "data": {
      "text/plain": [
       "int"
      ]
     },
     "execution_count": 4,
     "metadata": {},
     "output_type": "execute_result"
    }
   ],
   "source": [
    "type(2)\n"
   ]
  },
  {
   "cell_type": "code",
   "execution_count": 6,
   "id": "343a5b38",
   "metadata": {},
   "outputs": [
    {
     "data": {
      "text/plain": [
       "float"
      ]
     },
     "execution_count": 6,
     "metadata": {},
     "output_type": "execute_result"
    }
   ],
   "source": [
    "type(2.0)\n"
   ]
  },
  {
   "cell_type": "code",
   "execution_count": 7,
   "id": "fe6de929",
   "metadata": {},
   "outputs": [
    {
     "data": {
      "text/plain": [
       "bool"
      ]
     },
     "execution_count": 7,
     "metadata": {},
     "output_type": "execute_result"
    }
   ],
   "source": [
    "type( True)\n"
   ]
  },
  {
   "cell_type": "code",
   "execution_count": 8,
   "id": "9bfa7a83",
   "metadata": {},
   "outputs": [
    {
     "data": {
      "text/plain": [
       "list"
      ]
     },
     "execution_count": 8,
     "metadata": {},
     "output_type": "execute_result"
    }
   ],
   "source": [
    "type( [1, 2 , True] )"
   ]
  },
  {
   "cell_type": "markdown",
   "id": "1f587f1b",
   "metadata": {},
   "source": [
    "# Operaciones basicas"
   ]
  },
  {
   "cell_type": "code",
   "execution_count": 10,
   "id": "826d7d23",
   "metadata": {},
   "outputs": [],
   "source": [
    "#asignando variables\n",
    "\n",
    "a = True\n",
    "b = False\n",
    "c = 8\n",
    "d = 7\n",
    "e = 1"
   ]
  },
  {
   "cell_type": "code",
   "execution_count": 12,
   "id": "3cc8c32b",
   "metadata": {},
   "outputs": [
    {
     "name": "stdout",
     "output_type": "stream",
     "text": [
      "False\n",
      "False\n",
      "True\n",
      "True\n",
      "15\n",
      "0.875\n"
     ]
    }
   ],
   "source": [
    "#imprimiendo algunos resultados\n",
    "print(a==b)\n",
    "print(a and b)\n",
    "print(a or b)\n",
    "print(a!=c)\n",
    "print(c+d)\n",
    "print(d/c)"
   ]
  },
  {
   "cell_type": "code",
   "execution_count": 18,
   "id": "22572d90",
   "metadata": {},
   "outputs": [],
   "source": [
    "# operaciones con listas\n",
    "\n",
    "Milista1=[c,a,d]\n",
    "\n",
    "Milista2=[1]  \n",
    "\n",
    "Lista_Resultado = Milista1 + Milista2\n",
    "\n"
   ]
  },
  {
   "cell_type": "code",
   "execution_count": 20,
   "id": "703165d2",
   "metadata": {
    "scrolled": true
   },
   "outputs": [
    {
     "name": "stdout",
     "output_type": "stream",
     "text": [
      "[8, True, 7, 1]\n"
     ]
    }
   ],
   "source": [
    "print(Lista_Resultado)\n",
    "\n",
    "\n"
   ]
  },
  {
   "cell_type": "markdown",
   "id": "9163cb66",
   "metadata": {},
   "source": [
    "# Estructura condicional if-else"
   ]
  },
  {
   "cell_type": "markdown",
   "id": "61ab1702",
   "metadata": {},
   "source": [
    "Estructura basica:\n",
    "    \n",
    "    if (proposicion verdadera)\n",
    "        \n",
    "    {SANGRIA!}     ...acciones...\n",
    "  \t      \n",
    "    else (proposicion falsa)\n",
    "    \n",
    "    {SANGRIA!}     ...acciones...\n",
    "    \n",
    "    \n",
    "    \n",
    "Ejemplo:   \n",
    "    "
   ]
  },
  {
   "cell_type": "code",
   "execution_count": null,
   "id": "dccb7d44",
   "metadata": {},
   "outputs": [],
   "source": [
    "a = 2\n",
    "\n",
    "if ( a > 0 ):\t\n",
    "    resultado = 'el numero es positivo' \n",
    "\t\n",
    "else:\n",
    "    resultado = 'el numero NO es positivo' \n",
    "\n",
    "print( resultado )"
   ]
  }
 ],
 "metadata": {
  "kernelspec": {
   "display_name": "Python 3",
   "language": "python",
   "name": "python3"
  },
  "language_info": {
   "codemirror_mode": {
    "name": "ipython",
    "version": 3
   },
   "file_extension": ".py",
   "mimetype": "text/x-python",
   "name": "python",
   "nbconvert_exporter": "python",
   "pygments_lexer": "ipython3",
   "version": "3.8.8"
  }
 },
 "nbformat": 4,
 "nbformat_minor": 5
}
