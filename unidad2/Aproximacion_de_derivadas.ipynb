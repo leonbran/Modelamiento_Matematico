{
 "cells": [
  {
   "cell_type": "markdown",
   "id": "33de9e93",
   "metadata": {},
   "source": [
    "# Aproximación de derivadas"
   ]
  },
  {
   "cell_type": "raw",
   "id": "972fd0ef",
   "metadata": {},
   "source": [
    "#---------------------------------------#\n",
    "Introducción al Modelamiento Matemático\n",
    "Facultad de Ciencias Naturales y Exactas\n",
    "Universidad del Valle\n",
    "2021\n",
    "#---------------------------------------#"
   ]
  },
  {
   "cell_type": "markdown",
   "id": "0128b405",
   "metadata": {},
   "source": [
    "**Descripción:** En este programa aproximamos la derivada de una función en un intervalo $[a,b]$ aplicando la fórmula de diferencias finitas adelantadas\n",
    "\n",
    "\n",
    "$$ f'(x) \\approx \\dfrac{ f(x+h) - f(x) }{h}  $$\n",
    "\n",
    "donde $h = (b-a)/n$, con $n$ siendo el numero de divisiones del intervalo.\n"
   ]
  },
  {
   "cell_type": "code",
   "execution_count": 8,
   "id": "c6a0f105",
   "metadata": {},
   "outputs": [
    {
     "data": {
      "image/png": "[encoded data removed]",
      "text/plain": [
       "<Figure size 432x288 with 1 Axes>"
      ]
     },
     "metadata": {
      "needs_background": "light"
     },
     "output_type": "display_data"
    }
   ],
   "source": [
    "#importamos el modulos de numpy (numeric python)\n",
    "import numpy as np\n",
    "\n",
    "#importamos del modulo matplotlib la libreria pyplot con el alias de plt \n",
    "#(esto no permitira graficar las funciones).\n",
    "import matplotlib.pyplot as plt\n",
    "\n",
    "#--------------------------- definimos las funciones -------------------\n",
    "\n",
    "#Aplicamos la fórmula de diferencias finitas adelantadas\n",
    "def Dif_finitas_adelantadas( f , dx  ):\n",
    "       \n",
    "    #declaramos una lista vacia para guardar las derivadas de la funcion\n",
    "    dfdx = []        \n",
    "    for i in range( len(f) - 1  ):    \n",
    "        \n",
    "        #Aplicamos la formula de diferencias finitas adelantadas\n",
    "        df = f[i+1]-f[i]\n",
    "        dfdx.append( df/dx )\n",
    "              \n",
    "    return dfdx\n",
    "\n",
    "#NOTA: esta operacion se puede escribir como una operacion matricial!!!!\n",
    "#----------------------------------------------------------------------\n",
    "\n",
    "\n",
    "\n",
    "#Número de divisiones del intervalo\n",
    "n = 10\n",
    "\n",
    "#Defino el dominio de los valores que tomara la variable x.\n",
    "x = np.linspace(0, 2*np.pi, n)\n",
    "\n",
    "dx = x[1] - x[0]\n",
    "\n",
    "#Funcion exacta\n",
    "f = np.sin(x) \n",
    "\n",
    "#Derivada de la funcion\n",
    "dfdx_exacta  = np.cos(x)\n",
    "\n",
    "#Usando la formula de diferencias finitas\n",
    "dfdx_numerica = Dif_finitas_adelantadas( f , dx  )\n",
    "\n",
    "#Graficando la derivada exacta\n",
    "plt.plot(x, dfdx_exacta   , '-*', label='Exacta')\n",
    "\n",
    "\n",
    "#Graficando la derivada numérica!\n",
    "#ATENCIÓN!: note que el dominio de la derivada numérica NO incluye el punto 2*np.pi\n",
    "#por que la formula no esta definida en la frontera derecha del intervalo \n",
    "plt.plot(x[:-1], dfdx_numerica, '-o', label='Numerica')\n",
    "  \n",
    "#Declaramos la opción legend para que aparezcan las legendas de los gráficos y asi diferenciarlos\n",
    "plt.legend()\n",
    "\n",
    "#Mostramos el gráfico\n",
    "plt.show()"
   ]
  },
  {
   "cell_type": "markdown",
   "id": "b7c2de7c",
   "metadata": {},
   "source": [
    "#### Cálculo del error de la aproximación de la derivada (opcional)"
   ]
  },
  {
   "cell_type": "code",
   "execution_count": 10,
   "id": "9868e361",
   "metadata": {},
   "outputs": [
    {
     "name": "stdout",
     "output_type": "stream",
     "text": [
      "El error en la aproximación de la derivada es 7.31E-01 en la norma l2 discreta\n",
      "El error en la aproximación de la derivada es 3.44E-01 en la norma max discreta\n"
     ]
    }
   ],
   "source": [
    "#Definimos la funcion de la norma l2\n",
    "def Norma_l2(f ):        \n",
    "    suma =  0    \n",
    "    for fi in f:        \n",
    "        suma += fi**2    \n",
    "    return np.sqrt( suma )\n",
    "\n",
    "Diferencia =  dfdx_exacta[:-1] - dfdx_numerica \n",
    "Error1 = Norma_l2( Diferencia  )    \n",
    "print(\"El error en la aproximación de la derivada es\" , format(Error1,'.2E'), \"en la norma l2 discreta\" )\n",
    "\n",
    "\n",
    "\n",
    "#Definimos la funcion de la norma del max\n",
    "def Norma_max(f ):        \n",
    "  \n",
    "    return np.max( f )\n",
    "\n",
    "Diferencia =  dfdx_exacta[:-1] - dfdx_numerica \n",
    "Error2 = Norma_max( Diferencia  )    \n",
    "print(\"El error en la aproximación de la derivada es\" , format(Error2,'.2E'), \"en la norma max discreta\" )\n",
    "\n",
    "    "
   ]
  },
  {
   "cell_type": "code",
   "execution_count": null,
   "id": "cf0bd1b2",
   "metadata": {},
   "outputs": [],
   "source": []
  }
 ],
 "metadata": {
  "kernelspec": {
   "display_name": "Python 3",
   "language": "python",
   "name": "python3"
  },
  "language_info": {
   "codemirror_mode": {
    "name": "ipython",
    "version": 3
   },
   "file_extension": ".py",
   "mimetype": "text/x-python",
   "name": "python",
   "nbconvert_exporter": "python",
   "pygments_lexer": "ipython3",
   "version": "3.8.8"
  }
 },
 "nbformat": 4,
 "nbformat_minor": 5
}
