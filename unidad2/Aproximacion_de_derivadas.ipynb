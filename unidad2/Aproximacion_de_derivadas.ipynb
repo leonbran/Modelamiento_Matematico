{
 "cells": [
  {
   "cell_type": "markdown",
   "id": "33de9e93",
   "metadata": {},
   "source": [
    "# Aproximación de derivadas"
   ]
  },
  {
   "cell_type": "raw",
   "id": "972fd0ef",
   "metadata": {},
   "source": [
    "#---------------------------------------#\n",
    "Introducción al Modelamiento Matemático\n",
    "Facultad de Ciencias Naturales y Exactas\n",
    "Universidad del Valle\n",
    "2021\n",
    "#---------------------------------------#"
   ]
  },
  {
   "cell_type": "markdown",
   "id": "0128b405",
   "metadata": {},
   "source": [
    "**Descripción:** En este programa aproximamos la derivada de una función en un intervalo $[a,b]$ aplicando la formula de diferencias finitas adelantadas\n",
    "\n",
    "\n",
    "$$ f'(x) \\approx \\dfrac{ f(x+h) - f(x) }{h}  $$\n",
    "\n",
    "donde $h = (b-a)/n$, con $n$ siendo el numero de divisiones del intervalo.\n"
   ]
  },
  {
   "cell_type": "code",
   "execution_count": 45,
   "id": "c6a0f105",
   "metadata": {},
   "outputs": [
    {
     "data": {
      "image/png": "[encoded data removed]",
      "text/plain": [
       "<Figure size 432x288 with 1 Axes>"
      ]
     },
     "metadata": {
      "needs_background": "light"
     },
     "output_type": "display_data"
    }
   ],
   "source": [
    "#importamos el modulos de numpy (numeric python)\n",
    "import numpy as np\n",
    "\n",
    "#importamos del modulo matplotlib la libreria pyplot con el alias de plt \n",
    "#(esto no permitira graficar las funciones).\n",
    "import matplotlib.pyplot as plt\n",
    "\n",
    "#------------------- definimos las funciones -------------------\n",
    "\n",
    "#Aplicamos la formula de diferencias finitas adelantadas\n",
    "def Dif_finitas_adelantadas( f , dx  ):\n",
    "       \n",
    "    #declaramos una lista vacia para guardar las derivadas de la funcion\n",
    "    dfdx = []        \n",
    "    for i in range( len(f) - 1  ):    \n",
    "        \n",
    "        #Aplicamos la formula de diferencias finitas adelantadas\n",
    "        df = f[i+1]-f[i]\n",
    "        dfdx.append( df/dx )\n",
    "              \n",
    "    return dfdx\n",
    "#----------------------------------------------------------------\n",
    "\n",
    "\n",
    "#Numero de divisiones del intervalo\n",
    "n = 10\n",
    "\n",
    "#Defino el dominio de los valores que tomara la variable x.\n",
    "x = np.linspace(0, 2*np.pi, n)\n",
    "\n",
    "dx = x[1] - x[0]\n",
    "\n",
    "#Funcion exacta\n",
    "f = np.sin(x) \n",
    "\n",
    "#Derivada de la funcion\n",
    "dfdx_exacta  = np.cos(x)\n",
    "\n",
    "#Usando la formula de diferencias finitas\n",
    "dfdx_numerica = Dif_finitas_adelantadas( f , dx  )\n",
    "\n",
    "#Graficando la derivada exacta\n",
    "plt.plot(x, dfdx_exacta   , '-*', label='Exacta')\n",
    "\n",
    "\n",
    "#Graficando la derivada numerica!\n",
    "#ATENCION!: note que el dominio de la derivada numerica NO incluye el punto 2*np.pi\n",
    "#por que la formula no esta definida en la frontera derecha del intervalo \n",
    "plt.plot(x[:-1], dfdx_numerica, '-o', label='Numerica')\n",
    "  \n",
    "#Declaramos la opcion legend para que aparezcan las legendas de los graficos y asi diferenciarlos\n",
    "plt.legend()\n",
    "\n",
    "#Mostramos el grafico\n",
    "plt.show()"
   ]
  },
  {
   "cell_type": "markdown",
   "id": "b7c2de7c",
   "metadata": {},
   "source": [
    "#### Calculo del error de la aproximación de la derivada (opcional)"
   ]
  },
  {
   "cell_type": "code",
   "execution_count": 44,
   "id": "9868e361",
   "metadata": {},
   "outputs": [
    {
     "name": "stdout",
     "output_type": "stream",
     "text": [
      "El error en la aproximación de la derivada es 6.1E-01 en la norma L2 discreta\n"
     ]
    }
   ],
   "source": [
    "#Definimos la funcion de la norma L2\n",
    "def Norma_L2(f, dx):        \n",
    "    suma =  0    \n",
    "    for fi in f:        \n",
    "        suma += fi**2 * dx  \n",
    "    return np.sqrt( suma )\n",
    "\n",
    "Diferencia =  dfdx_exacta[:-1] - dfdx_numerica \n",
    "Error = Norma_L2( Diferencia , dx )    \n",
    "print(\"El error en la aproximación de la derivada es\" , format(Error,'.1E'), \"en la norma L2 discreta\" )\n",
    "    "
   ]
  }
 ],
 "metadata": {
  "kernelspec": {
   "display_name": "Python 3",
   "language": "python",
   "name": "python3"
  },
  "language_info": {
   "codemirror_mode": {
    "name": "ipython",
    "version": 3
   },
   "file_extension": ".py",
   "mimetype": "text/x-python",
   "name": "python",
   "nbconvert_exporter": "python",
   "pygments_lexer": "ipython3",
   "version": "3.6.9"
  }
 },
 "nbformat": 4,
 "nbformat_minor": 5
}
