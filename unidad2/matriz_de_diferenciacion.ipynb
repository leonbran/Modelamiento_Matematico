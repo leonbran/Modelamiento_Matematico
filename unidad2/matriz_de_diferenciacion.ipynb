{
 "cells": [
  {
   "cell_type": "markdown",
   "id": "043b39f8",
   "metadata": {},
   "source": [
    "# Matriz de diferenciación con corrección en la frontera derecha"
   ]
  },
  {
   "cell_type": "code",
   "execution_count": 3,
   "id": "f25865ee",
   "metadata": {},
   "outputs": [
    {
     "name": "stdout",
     "output_type": "stream",
     "text": [
      "[[-100.90909091  100.90909091    0.         ...    0.\n",
      "     0.            0.        ]\n",
      " [   0.         -100.90909091  100.90909091 ...    0.\n",
      "     0.            0.        ]\n",
      " [   0.            0.         -100.90909091 ...    0.\n",
      "     0.            0.        ]\n",
      " ...\n",
      " [   0.            0.            0.         ... -100.90909091\n",
      "   100.90909091    0.        ]\n",
      " [   0.            0.            0.         ...    0.\n",
      "  -100.90909091  100.90909091]\n",
      " [   0.            0.            0.         ...    0.\n",
      "     0.         -100.90909091]]\n"
     ]
    },
    {
     "name": "stderr",
     "output_type": "stream",
     "text": [
      "No handles with labels found to put in legend.\n"
     ]
    },
    {
     "data": {
      "image/png": "[encoded data removed]",
      "text/plain": [
       "<Figure size 432x288 with 1 Axes>"
      ]
     },
     "metadata": {
      "needs_background": "light"
     },
     "output_type": "display_data"
    }
   ],
   "source": [
    "import numpy as np\n",
    "import matplotlib.pyplot as plt\n",
    "\n",
    " \n",
    "\n",
    "def Veff(r): \n",
    "    a= 1   \n",
    "    b= 5\n",
    "    return  a/r**2 - b/r\n",
    "\n",
    "\n",
    "def DVeff_exacta(r): \n",
    "    a= 1   \n",
    "    b= 5\n",
    "    return -2*a/r**3 + b/r**2\n",
    "\n",
    "\n",
    "\n",
    "#Dominio\n",
    "r = np.linspace(0.1, 10 , 1000)\n",
    "\n",
    "#numero de puntos\n",
    "n = len(r)\n",
    "\n",
    "#separacion de puntos\n",
    "h = r[1]-r[0]\n",
    "\n",
    "#Diagonal \n",
    "D_diagonal        = -1 * np.diag( np.ones( len(r) ) ) \n",
    "#diagonal arriba\n",
    "D_diagonal_arriba =  1 * np.diag( np.ones( len(r)-1 ) , k = 1 )#Diagonal matris arriba\n",
    "\n",
    "Matriz_diferenciacion = (D_diagonal  + D_diagonal_arriba)/h\n",
    "\n",
    "print(Matriz_diferenciacion)\n",
    "\n",
    "#corrigiendo la ultima fila (frontera derecha)\n",
    "Matriz_diferenciacion[-1 , -1] = 1 \n",
    "Matriz_diferenciacion[-1 , -2] =-1 \n",
    "\n",
    "\n",
    "#derivando Veff\n",
    "DVeff = Matriz_diferenciacion @  Veff(r)\n",
    "\n",
    "\n",
    "#graficando\n",
    "plt.plot( r , DVeff   )\n",
    "#plt.plot( r , DVeff_exacta(r)  )\n",
    "plt.legend()\n",
    "plt.grid()\n",
    "plt.ylim(-3,5) \n",
    "plt.show()\n"
   ]
  },
  {
   "cell_type": "code",
   "execution_count": null,
   "id": "d3e2de30",
   "metadata": {},
   "outputs": [],
   "source": []
  }
 ],
 "metadata": {
  "kernelspec": {
   "display_name": "Python 3",
   "language": "python",
   "name": "python3"
  },
  "language_info": {
   "codemirror_mode": {
    "name": "ipython",
    "version": 3
   },
   "file_extension": ".py",
   "mimetype": "text/x-python",
   "name": "python",
   "nbconvert_exporter": "python",
   "pygments_lexer": "ipython3",
   "version": "3.8.8"
  }
 },
 "nbformat": 4,
 "nbformat_minor": 5
}
