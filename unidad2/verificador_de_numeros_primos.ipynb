{
 "cells": [
  {
   "cell_type": "markdown",
   "id": "e5c6f494",
   "metadata": {},
   "source": [
    "# Verificador de números primos"
   ]
  },
  {
   "cell_type": "raw",
   "id": "424065cb",
   "metadata": {},
   "source": [
    "#---------------------------------------#\n",
    "Introducción al Modelamiento Matemático\n",
    "Facultad de Ciencias Naturales y Exactas\n",
    "Universidad del Valle\n",
    "2021\n",
    "#---------------------------------------#"
   ]
  },
  {
   "cell_type": "markdown",
   "id": "b2d34eac",
   "metadata": {},
   "source": [
    "**Descripción:** En este programa verificamos si un cierto número entero es o no primo; es decir, si solo es divisible por el mismo y por la unidad. Note que aquí usaremos la operación modular:\n",
    "\n",
    "\n",
    "$$ M \\text{mod} N = M \\% N  = \\text{residual de la division entre } M \\text{ y } N. $$\n",
    "\n"
   ]
  },
  {
   "cell_type": "code",
   "execution_count": 1,
   "id": "67b96975",
   "metadata": {},
   "outputs": [
    {
     "name": "stdout",
     "output_type": "stream",
     "text": [
      "El numero 33 NO es primo!\n"
     ]
    }
   ],
   "source": [
    "\n",
    "#Ingresar numero natural para verificar si es o no primo\n",
    "numero= 33\n",
    "\n",
    "\n",
    "#La lista de todos los posibles divisores de numero elegido\n",
    "Lista_numeros= range(2,numero)\n",
    "\n",
    "#Inicializamos la variable booleana \"EsPrimo\" que indica si un numero es promo en valor verdadero (True)\n",
    "EsPrimo=True\n",
    "\n",
    "for n in Lista_numeros:\n",
    "    \n",
    "    #verificando si n divide a numero con la operacion modular % ( m % n = residual de la division )\n",
    "    if numero % n == 0:         \n",
    "                   \n",
    "        #Cambiamos el valor de la variable booleana \"EsPrimo\" a valor falso (False)\n",
    "        EsPrimo=False\n",
    "        \n",
    "        #Rompiendo el ciclo \"for\" por que el numero tiene un divisor \n",
    "        break\n",
    "        \n",
    "    else:\n",
    "        #no hacer nada y continuar con el ciclo\n",
    "        continue\n",
    "        \n",
    "\n",
    "if EsPrimo==True:            \n",
    "    print(\"El numero %i es primo\" %numero)\n",
    "\n",
    "else:            \n",
    "    print(\"El numero %i NO es primo!\"% numero)    \n",
    "    "
   ]
  },
  {
   "cell_type": "markdown",
   "id": "1c4448a2",
   "metadata": {},
   "source": [
    "**Comentario:** La instrucción **else** de la linea 23 y todo lo que hay dentro de él (la instruccion continue) es opcional. Es decir; el programa puede funcionar perfectamente si se borran las lineas 23,24 y 25. "
   ]
  }
 ],
 "metadata": {
  "kernelspec": {
   "display_name": "Python 3",
   "language": "python",
   "name": "python3"
  },
  "language_info": {
   "codemirror_mode": {
    "name": "ipython",
    "version": 3
   },
   "file_extension": ".py",
   "mimetype": "text/x-python",
   "name": "python",
   "nbconvert_exporter": "python",
   "pygments_lexer": "ipython3",
   "version": "3.6.9"
  }
 },
 "nbformat": 4,
 "nbformat_minor": 5
}
