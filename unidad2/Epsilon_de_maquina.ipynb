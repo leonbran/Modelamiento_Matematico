{
 "cells": [
  {
   "cell_type": "markdown",
   "id": "abb06c35",
   "metadata": {},
   "source": [
    "# Epsilón de máquina"
   ]
  },
  {
   "cell_type": "raw",
   "id": "bbf2266b",
   "metadata": {},
   "source": [
    "#---------------------------------------#\n",
    "Introducción al Modelamiento Matemático\n",
    "Facultad de Ciencias Naturales y Exactas\n",
    "Universidad del Valle\n",
    "2021\n",
    "#---------------------------------------#"
   ]
  },
  {
   "cell_type": "markdown",
   "id": "6a4ebf23",
   "metadata": {},
   "source": [
    "**Descripción:** En este programa calculamos el epsilon de máquina, es decir el mínimo número que nuestra máquina puede diferenciar entre dos números. Matemáticamente, esto se escribe como sigue:\n",
    "\n",
    "\n",
    "$$ a + epsilon \\approx a$$\n",
    "\n",
    "\n",
    "Note que apesar que esta equacion no se satisface analiticamente para epsilon$\\neq 0$, si puede ser valida numericamente.\n",
    "\n"
   ]
  },
  {
   "cell_type": "code",
   "execution_count": 3,
   "id": "c694c6f4",
   "metadata": {},
   "outputs": [
    {
     "name": "stdout",
     "output_type": "stream",
     "text": [
      "El valor del epsilón de máquina es: 1.1102230246251565e-16\n"
     ]
    }
   ],
   "source": [
    "\n",
    "#-----------Primero definimos las funciones-----------\n",
    "\n",
    "#Definimos una funcion sin argumentos\n",
    "def Calcular_Epsilon_Maquina( ):\n",
    "    \n",
    "    #Fijar el epsilon en un cierto valor arbitrario\n",
    "    epsilon = 1\n",
    "    \n",
    "    #Fijamos un valor arbitrario a\n",
    "    a  = 1\n",
    "    \n",
    "    #Mediante un ciclo while (ciclo con un número indeterminado de pasos!) reducimos el valor del epsilon\n",
    "    #Note que la condición del while significa: siempre que epsilon +a sea diferente que a\n",
    "    while ( epsilon + a != a):\n",
    "        \n",
    "        #Reducimos el valor del epsilon en la mitad\n",
    "        epsilon =  epsilon / 2\n",
    "    \n",
    "    return epsilon\n",
    "#-----------------------------------------------------\n",
    "\n",
    "#Llamar la funcion de epsilón de máquina, la cual no tiene argumentos\n",
    "valor_del_epsilon = Calcular_Epsilon_Maquina()\n",
    "\n",
    "\n",
    "#Llamar la función de epsilón de máquina\n",
    "print(\"El valor del epsilón de máquina es:\", valor_del_epsilon) \n"
   ]
  },
  {
   "cell_type": "code",
   "execution_count": null,
   "id": "36acfdfe",
   "metadata": {},
   "outputs": [],
   "source": []
  }
 ],
 "metadata": {
  "kernelspec": {
   "display_name": "Python 3",
   "language": "python",
   "name": "python3"
  },
  "language_info": {
   "codemirror_mode": {
    "name": "ipython",
    "version": 3
   },
   "file_extension": ".py",
   "mimetype": "text/x-python",
   "name": "python",
   "nbconvert_exporter": "python",
   "pygments_lexer": "ipython3",
   "version": "3.6.9"
  }
 },
 "nbformat": 4,
 "nbformat_minor": 5
}
