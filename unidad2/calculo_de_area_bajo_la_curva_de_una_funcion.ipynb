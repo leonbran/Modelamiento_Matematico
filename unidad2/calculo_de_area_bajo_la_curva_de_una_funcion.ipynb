{
 "cells": [
  {
   "cell_type": "markdown",
   "id": "1177cdd7",
   "metadata": {},
   "source": [
    "# Cálculo del area bajo la curva de una función"
   ]
  },
  {
   "cell_type": "raw",
   "id": "33d3b24e",
   "metadata": {},
   "source": [
    "#---------------------------------------#\n",
    "Introducción al Modelamiento Matemático\n",
    "Facultad de Ciencias Naturales y Exactas\n",
    "Universidad del Valle\n",
    "2021\n",
    "#---------------------------------------#"
   ]
  },
  {
   "cell_type": "markdown",
   "id": "9bccd084",
   "metadata": {},
   "source": [
    "**Descripción:** \n",
    "En este programa mostraremos como calcular el area bajo la curva de la función $f(x) = x^2$ en el intervalo $[-1,1]$ utilizando la regla del trapezio: \n",
    "\n",
    "\n",
    "$$  \\int_{a}^{b} f(x) \\,dx \\approx \\left[ \\dfrac{f(a) + f(b)}{2} + \\sum_{n=1}^{n} \\dfrac{h}{2} f(a + i h) \\right] $$\n",
    "\n",
    "donde $h= (b-a)/n$, siendo y $n$ es el numero de divisiones del intervalo $[a,b]$.\n",
    "\n",
    "\n",
    "\n",
    "Adicionalmente, compararemos el valor obtenido numericamente con el valor exacto obtenido mediante el teorema fundamental del calculo y su antiderivada."
   ]
  },
  {
   "cell_type": "code",
   "execution_count": 19,
   "id": "61e132a8",
   "metadata": {},
   "outputs": [
    {
     "name": "stdout",
     "output_type": "stream",
     "text": [
      "A continuacion calcularemos los valores de la integral de forma analitica y numerica \n",
      "\n",
      "El valor numerico de la integral es:  0.6667999999999998 \n",
      "\n",
      "El valor analitico de la integral es: 0.6666666666666666 \n",
      "\n",
      "El error del calculo numerico es:     0.00013333333333320763 \n",
      "\n"
     ]
    }
   ],
   "source": [
    "#importamos el modulos de numpy (numeric python)\n",
    "import numpy as np\n",
    "\n",
    "\n",
    "#-----------primero definimos las funciones----------- \n",
    "\n",
    "#definimos la funcion de la regla del trapezio\n",
    "def regla_del_trapezio(f, a, b, n):\n",
    "   \n",
    "    #definimos el h\n",
    "    h = (b-a)/n\n",
    "    \n",
    "    #inicializamos la variable sumatoria\n",
    "    sumatoria = (f(a) + f(b))/2\n",
    "    \n",
    "    #hacemos la sumatoria mediante un ciclo for\n",
    "    for i in range(1, n):\n",
    "        sumatoria += f(a + i*h)\n",
    "         \n",
    "    #retornamos el resultado        \n",
    "    return sumatoria * h\n",
    "\n",
    "#definimos la funcion a integrar\n",
    "def funcion_a_integrar(x):    \n",
    "    return x**2\n",
    "\n",
    "\n",
    "#definimos la funcion de la antiderivada\n",
    "def antiderivada_de_funcion(x):    \n",
    "    return (x**3) / 3\n",
    "#------------------------------------------------------\n",
    "\n",
    "\n",
    "#Definimos los limites del intervalo y su numero de divisiones\n",
    "a =-1\n",
    "b = 1\n",
    "n = 100 \n",
    "\n",
    " \n",
    "print('A continuacion calcularemos los valores de la integral de forma analitica y numerica \\n')\n",
    "\n",
    "\n",
    "#calculamos mediandte la funcion \"regla_del_trapezio\" el valor numerico de la integral\n",
    "Integral_numerical = regla_del_trapezio(  funcion_a_integrar , a, b, n)\n",
    "print('El valor numerico de la integral es: ', Integral_numerical,'\\n')\n",
    "\n",
    "#calculamos mediante la funcion \"antiderivada_de_funcion\"  el valor exacto de la integral\n",
    "Integral_exacta    = antiderivada_de_funcion(1) - antiderivada_de_funcion(-1)\n",
    "print('El valor analitico de la integral es:', Integral_exacta,'\\n')\n",
    "\n",
    "\n",
    " #Calculamos el error cometido en el calculo numerico    \n",
    "error = np.abs( Integral_exacta  - Integral_numerical)\n",
    "\n",
    "print('El error del calculo numerico es:    ', error,'\\n')\n"
   ]
  },
  {
   "cell_type": "code",
   "execution_count": null,
   "id": "52b55b7f",
   "metadata": {},
   "outputs": [],
   "source": []
  }
 ],
 "metadata": {
  "kernelspec": {
   "display_name": "Python 3",
   "language": "python",
   "name": "python3"
  },
  "language_info": {
   "codemirror_mode": {
    "name": "ipython",
    "version": 3
   },
   "file_extension": ".py",
   "mimetype": "text/x-python",
   "name": "python",
   "nbconvert_exporter": "python",
   "pygments_lexer": "ipython3",
   "version": "3.6.9"
  }
 },
 "nbformat": 4,
 "nbformat_minor": 5
}
