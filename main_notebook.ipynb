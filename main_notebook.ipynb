{
 "cells": [
  {
   "attachments": {
    "facultad2.png": {
     "image/png": "[encoded data removed]"
    }
   },
   "cell_type": "markdown",
   "id": "af3aea98",
   "metadata": {},
   "source": [
    "![facultad2.png](attachment:facultad2.png)"
   ]
  },
  {
   "cell_type": "markdown",
   "id": "c335db9d",
   "metadata": {},
   "source": [
    "# <center>Introducción al Modelamiento Matemático<center>"
   ]
  },
  {
   "cell_type": "markdown",
   "id": "1b999851",
   "metadata": {},
   "source": [
    "## Profesores a cargo:\n",
    "    Karem Rodríguez (Depto. Física)\n",
    "    Jose Lopez      (Depto. Química)\n",
    "    Juan Muñoz      (Depto. Matemáticas)\n",
    "    Hector Martinez (Depto. Matemáticas)\n",
    "    Leon Escobar    (Depto. Matemáticas)"
   ]
  },
  {
   "cell_type": "markdown",
   "id": "3897aff4",
   "metadata": {
    "deletable": false,
    "editable": false
   },
   "source": [
    "## Códigos por capítulos"
   ]
  },
  {
   "cell_type": "markdown",
   "id": "487cb21d",
   "metadata": {
    "deletable": false,
    "editable": false
   },
   "source": [
    "#### Unidad 2 : Elementos básicos de programación científica  "
   ]
  },
  {
   "cell_type": "markdown",
   "id": "4362a1f0",
   "metadata": {},
   "source": [
    "A continuacion se listan los links a los notebooks que contienen los codigos en python de los programas adicionales correspondientes a la unidad 2 relacionados con los siguientes temas"
   ]
  },
  {
   "cell_type": "markdown",
   "id": "3169f287",
   "metadata": {},
   "source": [
    "* [Números primos](./unidad2/verificador_de_numeros_primos.ipynb)\n",
    "* [Epsilón de máquina](./unidad2/Epsilon_de_maquina.ipynb)\n",
    "* [Gráficos de funciones](./unidad2/grafico_de_funciones.ipynb)\n",
    "* [Derivación de funciones](./unidad2/Aproximacion_de_derivadas.ipynb)\n",
    "* [Integración númerica](./unidad2/calculo_de_area_bajo_la_curva_de_una_funcion.ipynb)\n",
    "* [Números aleatorios](./unidad2/calculo_de_pi_con_numeros_aleatorios.ipynb)"
   ]
  },
  {
   "cell_type": "markdown",
   "id": "c1fd49b5",
   "metadata": {},
   "source": [
    "**Comentario:** Note que en ocasiones es necesario introducir alguna explicacion de las matemáticas en las cuales se basan los códigos. Para tal fin, hemos utilizado código LaTex para escribir la mayoría de las ecuaciones de forma similar a como a continuación escribimos la ecuación de campo de Einstein, la cual es el corazón de la relatividad general :)\n",
    "\n",
    "$$  R_{\\nu \\mu} - \\dfrac{1}{2}g_{\\nu \\mu} R = \\dfrac{8 \\pi G}{c^2} T_{\\nu \\mu} $$ "
   ]
  },
  {
   "cell_type": "markdown",
   "id": "49dd54de",
   "metadata": {},
   "source": [
    "#### Unidad 3 : Modelos matemáticos básicos"
   ]
  },
  {
   "cell_type": "markdown",
   "id": "93c82c78",
   "metadata": {},
   "source": [
    "#### Unidad 4: Modelos determinstas"
   ]
  },
  {
   "cell_type": "markdown",
   "id": "f8679c37",
   "metadata": {
    "deletable": false,
    "editable": false
   },
   "source": [
    "#### Unidad 5: Modelos no deterministas"
   ]
  },
  {
   "cell_type": "markdown",
   "id": "f3c4dad3",
   "metadata": {
    "deletable": false,
    "editable": false
   },
   "source": [
    "<center>Facultad de Ciencias Naturales y Exactas <center>   \n",
    "\n",
    "<center>Universidad del Valle <center> \n",
    "\n",
    "<center> Cali, Colombia <center> \n",
    "\n",
    "<center> 27/05/2021 <center>    "
   ]
  }
 ],
 "metadata": {
  "kernelspec": {
   "display_name": "Python 3",
   "language": "python",
   "name": "python3"
  },
  "language_info": {
   "codemirror_mode": {
    "name": "ipython",
    "version": 3
   },
   "file_extension": ".py",
   "mimetype": "text/x-python",
   "name": "python",
   "nbconvert_exporter": "python",
   "pygments_lexer": "ipython3",
   "version": "3.6.9"
  }
 },
 "nbformat": 4,
 "nbformat_minor": 5
}
