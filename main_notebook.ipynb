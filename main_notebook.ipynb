{
 "cells": [
  {
   "cell_type": "markdown",
   "id": "d924dd95",
   "metadata": {},
   "source": [
    "\n",
    "# Repositorio de códigos de curso de modelamiento matemático\n"
   ]
  },
  {
   "cell_type": "markdown",
   "id": "1b999851",
   "metadata": {},
   "source": [
    "## Profesores a cargo:\n",
    "    Leon Escobar\n",
    "    Karem(n) Rodriguez\n",
    "    Juan Carlos Muñoz\n",
    "    Jose Guillermo\n",
    "    Hector Jario Martinez"
   ]
  },
  {
   "cell_type": "markdown",
   "id": "3897aff4",
   "metadata": {},
   "source": [
    "### Códigos y practicas"
   ]
  },
  {
   "cell_type": "markdown",
   "id": "487cb21d",
   "metadata": {},
   "source": [
    "#### Unidad 2 : Elementos básicos de programación científica  "
   ]
  },
  {
   "cell_type": "markdown",
   "id": "16a31037",
   "metadata": {},
   "source": [
    "* [Grafico de funciones](./grafico_de_funciones.ipynb)\n",
    "* [Derivadas de funciones](./grafico_de_funciones.ipynb)\n",
    "* [Integrales de funciones](./grafico_de_funciones.ipynb)\n",
    "* [Numeros aleatorios](./grafico_de_funciones.ipynb)"
   ]
  },
  {
   "cell_type": "markdown",
   "id": "e19a418d",
   "metadata": {
    "deletable": false,
    "editable": false
   },
   "source": [
    "**Comentario:** Si es necesario para introducir alguna explicacion de los codigos, tambien podemos introucir caracteres en latex $\\alpha + \\beta$  y ecuaciones mas complicadas como por ejemplo mi adorada ecuación :)\n",
    "\n",
    "$$R_{\\nu \\mu} - \\dfrac{1}{2}g_{\\nu \\mu} R = \\dfrac{8 \\pi G}{c^2} T_{\\nu \\mu}$$"
   ]
  },
  {
   "cell_type": "markdown",
   "id": "2170866a",
   "metadata": {},
   "source": [
    "#### Unidad 3 : Modelos matemáticos básicos"
   ]
  },
  {
   "cell_type": "raw",
   "id": "664b13d9",
   "metadata": {},
   "source": [
    "Establecer listado de links con notebooks de las practicas asi: * [nombre_del_link](./nombre_notebook.ipynb) . Luego cambiar la naturalesza de la celda a tipo \"markdown\""
   ]
  },
  {
   "cell_type": "markdown",
   "id": "1e977887",
   "metadata": {},
   "source": [
    "#### Unidad 4: Modelos determinstas"
   ]
  },
  {
   "cell_type": "raw",
   "id": "24763361",
   "metadata": {},
   "source": [
    "Establecer listado de links con notebooks de las practicas asi: * [nombre_del_link](./nombre_notebook.ipynb) . Luego cambiar la naturalesza de la celda a tipo \"markdown\""
   ]
  },
  {
   "cell_type": "markdown",
   "id": "de4edb8a",
   "metadata": {},
   "source": [
    "#### Unidad 5: Modelos no deterministas"
   ]
  },
  {
   "cell_type": "raw",
   "id": "096f5e5c",
   "metadata": {},
   "source": [
    "Establecer listado de links con notebooks de las practicas asi: * [nombre_del_link](./nombre_notebook.ipynb) . Luego cambiar la naturalesza de la celda a tipo \"markdown\" "
   ]
  },
  {
   "cell_type": "markdown",
   "id": "aadc080b",
   "metadata": {},
   "source": [
    "[mylink]: subdir/grafico_de_funciones.ipynb"
   ]
  },
  {
   "cell_type": "markdown",
   "id": "d632ad8a",
   "metadata": {},
   "source": [
    "<center>Facultad de Ciencias Naturales y Exactas <center>   \n",
    "\n",
    "<center>Universidad del Valle <center> \n",
    "\n",
    "<center> Cali, Colombia <center> \n",
    "\n",
    "<center> 27/05/2021 <center>    "
   ]
  },
  {
   "cell_type": "markdown",
   "id": "e645cd06",
   "metadata": {},
   "source": [
    "[mylink]:subdir/another.ipynb"
   ]
  }
 ],
 "metadata": {
  "celltoolbar": "Edit Metadata",
  "kernelspec": {
   "display_name": "Python 3",
   "language": "python",
   "name": "python3"
  },
  "language_info": {
   "codemirror_mode": {
    "name": "ipython",
    "version": 3
   },
   "file_extension": ".py",
   "mimetype": "text/x-python",
   "name": "python",
   "nbconvert_exporter": "python",
   "pygments_lexer": "ipython3",
   "version": "3.6.9"
  }
 },
 "nbformat": 4,
 "nbformat_minor": 5
}
